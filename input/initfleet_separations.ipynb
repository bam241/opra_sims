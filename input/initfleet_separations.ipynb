{
 "cells": [
  {
   "cell_type": "code",
   "execution_count": 128,
   "metadata": {},
   "outputs": [],
   "source": [
    "import subprocess\n",
    "\n",
    "intro_time = 60 \n",
    "sim_duration = 300\n",
    "trans_time = 90\n",
    "\n",
    "n_init_rxtrs = 100\n",
    "n_assem_core = 3\n",
    "assem_size = 29565\n",
    "init_total_assem_size = n_init_rxtrs * n_assem_core * assem_size\n",
    "cycle_time = 8"
   ]
  },
  {
   "cell_type": "code",
   "execution_count": 129,
   "metadata": {},
   "outputs": [],
   "source": [
    "init_uox_source = {'name' : 'SourceInitUOX', \n",
    "                   'config' : {'Source' : {'outcommod' : 'InitUOX',\n",
    "                                           'outrecipe' : 'UOX_no232',\n",
    "                                           'inventory_size' : init_total_assem_size\n",
    "                                          }\n",
    "                              }\n",
    "                  }"
   ]
  },
  {
   "cell_type": "code",
   "execution_count": 105,
   "metadata": {},
   "outputs": [],
   "source": [
    "from eg01_facilities import (natu_source, non_source, add_source, enrich, \n",
    "                             du_store, store_no232, mix_no232, store_232, \n",
    "                             mix_232)"
   ]
  },
  {
   "cell_type": "code",
   "execution_count": 130,
   "metadata": {},
   "outputs": [],
   "source": [
    "lwr_full = {'name' : 'LWR',\n",
    "            'lifetime' : 960,\n",
    "            'config' : {'Reactor' : {'fuel_incommods' :  {'val' : ['UOX_Additive', 'UOX_NoAdditive', 'InitUOX']},\n",
    "                                     'fuel_outcommods' : {'val' : ['SpentUOX_Additive', 'SpentUOX_NoAdditive', 'SpentUOX_NoAdditive']},\n",
    "                                     'fuel_inrecipes' :  {'val' : ['UOX_232', 'UOX_no232', 'UOX_no232']},\n",
    "                                     'fuel_outrecipes' : {'val' : ['SpentUOX_232', 'SpentUOX_no232', 'SpentUOX_no232']},\n",
    "                                     'fuel_prefs' : {'val' : [1, 2, 2.5]},\n",
    "                                     'pref_change_times' : {'val' : intro_time},\n",
    "                                     'pref_change_commods' : {'val' : 'UOX_Additive'},\n",
    "                                     'pref_change_values' : {'val' : 3},\n",
    "                                     'cycle_time' : cycle_time,\n",
    "                                     'refuel_time' : 0,\n",
    "                                     'assem_size' : assem_size,\n",
    "                                     'n_assem_core' : n_assem_core,\n",
    "                                     'n_assem_batch' : 1,\n",
    "                                     'power_cap' : 1000\n",
    "                                    }\n",
    "                       }\n",
    "           }"
   ]
  },
  {
   "cell_type": "code",
   "execution_count": 107,
   "metadata": {},
   "outputs": [],
   "source": [
    "eg23_sink = {'name' : 'Waste',\n",
    "             'config' : {'Sink' : {'in_commods' : {'val' : 'Waste'}\n",
    "                                  }\n",
    "                        }\n",
    "            }\n",
    "# Post-LWR Updates\n",
    "non_lwr_cool = {'name' : 'CoolingUOX_NoAdditive',\n",
    "                'config' : {'Storage' : {'in_commods' : {'val' : 'SpentUOX_NoAdditive'},\n",
    "                                         'out_commods' : {'val' : 'CooledSpentUOX_NoAdditive'},\n",
    "                                         'in_recipe' : 'SpentUOX_no232',\n",
    "                                         'residence_time' : 10#81\n",
    "                                        }\n",
    "                           }\n",
    "               }\n",
    "add_lwr_cool = {'name' : 'CoolingUOX_Additive',\n",
    "                'config' : {'Storage' : {'in_commods' : {'val' : 'SpentUOX_Additive'},\n",
    "                                         'out_commods' : {'val' : 'CooledSpentUOX_Additive'},\n",
    "                                         'in_recipe' : 'SpentUOX_232',\n",
    "                                         'residence_time' : 10#81\n",
    "                                        }\n",
    "                           }\n",
    "               }\n",
    "sep_streams = {'item' : [{'commod' : 'LWR_Pu',\n",
    "                          'info' : {'buf_size' : 1e100,\n",
    "                                    'efficiencies' : {'item' : {'comp': 'Pu', 'eff': 0.99}}}},\n",
    "                         {'commod' : 'LWR_RU', \n",
    "                          'info' : {'buf_size' : 1e100, \n",
    "                                    'efficiencies' : {'item' : {'comp': 'U', 'eff': 0.99}}}}\n",
    "                        ]\n",
    "              }\n",
    "lwr_sep = {'name' : 'SepLWR',\n",
    "           'config' : {'Separations' : {'leftover_commod' : 'Waste',\n",
    "                                        'throughput' : 1e100,\n",
    "                                        'feedbuf_size' : 1e100,\n",
    "                                        'feed_commods' : {'val' : ['CooledSpentUOX_NoAdditive', 'CooledSpentUOX_Additive']},\n",
    "                                        'feed_commod_prefs' : {'val' : [1, 2]},\n",
    "                                        'streams' : sep_streams}}\n",
    "      }"
   ]
  },
  {
   "cell_type": "code",
   "execution_count": 131,
   "metadata": {},
   "outputs": [],
   "source": [
    "init_lwr_prototypes = ['LWR' for x in range(0, n_init_rxtrs)]\n",
    "n_builds = [1 for x in range(0, n_init_rxtrs)]\n",
    "build_times = [x + 1 for x in range(0, 17) for y in range(0,6)]\n",
    "del build_times[-3:-1]\n",
    "# Lifetimes borrowed from previous EG scenario work presuming a \n",
    "# start year of 2000 and first decommission in 2015. Updated to \n",
    "# better stagger decommissioning.\n",
    "old_lives = [181, 186, 191, 196, \n",
    "             201, 206, 211, 216, 221, 226, 231, 236, 241, 246, 251, 256, 261, 266, 271, 276, 281, 286, 291, 296,\n",
    "             301, 306, 311, 316, 321, 326, 331, 336, 341, 346, 351, 356, 361, 366, 371, 376, 381, 386, 391, 396,\n",
    "             401, 406, 411, 416, 421, 426, 431, 436, 441, 446, 451, 456, 461, 466, 471, 476, 481, 486, 491, 496,\n",
    "             501, 506, 511, 516, 521, 526, 531, 536, 541, 546, 551, 556, 561, 566, 571, 576, 581, 586, 591, 596,\n",
    "             601, 606, 611, 616, 621, 626, 631, 636, 641, 646, 651, 656, 661, 666, 671, 676\n",
    "            ]\n",
    "# Overwrite lifetimes to have decommission start 1.5 year in, \n",
    "# expecting a sim start of 2022\n",
    "lifetimes = [x - 163 for x in old_lives]"
   ]
  },
  {
   "cell_type": "code",
   "execution_count": 132,
   "metadata": {},
   "outputs": [],
   "source": [
    "init_fleet = {'name' : 'InitFleet', \n",
    "              'config' : {'DeployInst' : {'prototypes' :  {'val' : init_lwr_prototypes},\n",
    "                                          'n_build' :     {'val' : n_builds},\n",
    "                                          'build_times' : {'val' : build_times},\n",
    "                                          'lifetimes' :   {'val' : lifetimes}\n",
    "                                         }\n",
    "                         }\n",
    "             }"
   ]
  },
  {
   "cell_type": "code",
   "execution_count": 118,
   "metadata": {},
   "outputs": [],
   "source": [
    "lin_func = {'piece' : [{'start' : 18,\n",
    "                        'function' : {'type' : 'linear',\n",
    "                                      'params' : '0 100000'\n",
    "                                     }\n",
    "                       }]\n",
    "           }\n",
    "\n",
    "growth_region = {'GrowthRegion' : {'growth' : {'item' : [{'commod' : 'power',\n",
    "                                                          'piecewise_function' : lin_func\n",
    "                                                         }]\n",
    "                                              }\n",
    "                                  }\n",
    "                }"
   ]
  },
  {
   "cell_type": "code",
   "execution_count": 119,
   "metadata": {},
   "outputs": [],
   "source": [
    "dep_u = {'name' : 'DU',\n",
    "         'basis' : 'mass',\n",
    "         'nuclide' : [{'id' : 'U235', 'comp' : 0.0025}, \n",
    "                      {'id' : 'U238', 'comp' : 0.9975}]\n",
    "        }\n",
    "nat_u = {'name' : 'NU',\n",
    "         'basis' : 'mass',\n",
    "         'nuclide' : [{'id' : 'U235', 'comp' : 0.007110}, \n",
    "                      {'id' : 'U238', 'comp' : 0.992890}]\n",
    "        }\n",
    "from recipe_100ppt import (isos_no232, isos_232, enr_no232, enr_232, \n",
    "                           uox_no232, uox_10pct232, uox_50pct232, uox_232, \n",
    "                           spent_no232, spent_10pct232, spent_50pct232, \n",
    "                           spent_232, ff_no232, ff_232, spentff_no232, \n",
    "                           spentff_232\n",
    "                          )"
   ]
  },
  {
   "cell_type": "code",
   "execution_count": 120,
   "metadata": {},
   "outputs": [],
   "source": [
    "s1 = {'info' : {'mixing_ratio' : 0.5,\n",
    "                'buf_size' : 1e7}, \n",
    "                'commodities' : {'item' : {'commodity' : 'LWR_Pu', 'pref' : 1}}\n",
    "     }\n",
    "s2 = {'info' : {'mixing_ratio' : 0.5,\n",
    "                'buf_size' : 1e7}, \n",
    "                'commodities' : {'item' : {'commodity' : 'LWR_RU', 'pref' : 1}}\n",
    "     }\n",
    "mix = {'name' : 'Mix',\n",
    "       'config' : {'Mixer' : {'in_streams' : {'stream' : [s1, s2]},\n",
    "                              'out_commod' : 'FakeFuel',\n",
    "                              'throughput' : 1e10,\n",
    "                              'out_buf_size' : 1e20}}\n",
    "      }"
   ]
  },
  {
   "cell_type": "code",
   "execution_count": 121,
   "metadata": {},
   "outputs": [],
   "source": [
    "eg1_23_fc_prototypes = ['SourceNatU', 'SourceNoAdditiveIsos', 'SourceAdditiveIsos', 'Enrichment', 'StorageDepU', \n",
    "                        'StorageNoAdditive', 'MixerNoAdditive', 'StorageAdditive', 'MixerAdditive', \n",
    "                        'LWR', 'CoolingUOX_NoAdditive', 'CoolingUOX_Additive', 'Waste'\n",
    "                       ]\n",
    "\n",
    "eg1_23_fc_inst = {'name' : 'FCInstEG01', \n",
    "                  'initialfacilitylist' : {'entry' : [{'number' : 1, 'prototype' : 'SourceInitUOX'},\n",
    "                                                      {'number' : 1, 'prototype' : 'SourceNatU'},\n",
    "                                                      {'number' : 1, 'prototype' : 'SourceNoAdditiveIsos'},\n",
    "                                                      {'number' : 1, 'prototype' : 'SourceAdditiveIsos'},\n",
    "                                                      {'number' : 1, 'prototype' : 'Enrichment'},\n",
    "                                                      {'number' : 1, 'prototype' : 'StorageDepU'},\n",
    "                                                      {'number' : 1, 'prototype' : 'StorageNoAdditive'},\n",
    "                                                      {'number' : 1, 'prototype' : 'MixerNoAdditive'},\n",
    "                                                      {'number' : 1, 'prototype' : 'StorageAdditive'},\n",
    "                                                      {'number' : 1, 'prototype' : 'MixerAdditive'},\n",
    "                                                      {'number' : 1, 'prototype' : 'CoolingUOX_NoAdditive'},\n",
    "                                                      {'number' : 1, 'prototype' : 'CoolingUOX_Additive'},\n",
    "                                                      {'number' : 1, 'prototype' : 'SepLWR'}, ###########\n",
    "                                                      {'number' : 1, 'prototype' : 'Mix'}, ###########\n",
    "                                                      {'number' : 1, 'prototype' : 'Waste'}]\n",
    "                                          },\n",
    "                  'config' : {'ManagerInst' : {'prototypes' : {'val' : eg1_23_fc_prototypes}\n",
    "                                              }\n",
    "                             }\n",
    "                 }"
   ]
  },
  {
   "cell_type": "code",
   "execution_count": 126,
   "metadata": {},
   "outputs": [],
   "source": [
    "control = {'duration' : sim_duration, \n",
    "           'startmonth' : 1, \n",
    "           'startyear' : 2022,\n",
    "           'dt' : 86400\n",
    "          }\n",
    "archetypes = {'spec' : [{'lib' : 'cycamore', 'name' : 'Source'},\n",
    "                        {'lib' : 'cycamore', 'name' : 'Enrichment'},\n",
    "                        {'lib' : 'cycamore', 'name' : 'Mixer'},\n",
    "                        {'lib' : 'cycamore', 'name' : 'Reactor'},\n",
    "                        {'lib' : 'cycamore', 'name' : 'Storage'},\n",
    "                        {'lib' : 'cycamore', 'name' : 'Separations'},\n",
    "                        {'lib' : 'cycamore', 'name' : 'Sink'},\n",
    "                        {'lib' : 'cycamore', 'name' : 'DeployInst'},\n",
    "                        {'lib' : 'cycamore', 'name' : 'ManagerInst'},\n",
    "                        {'lib' : 'cycamore', 'name' : 'GrowthRegion'},\n",
    "                      ]\n",
    "             }\n",
    "# full additive availability at intro\n",
    "full_region = {'name' : 'GrowthRegion', \n",
    "               'config' : growth_region, \n",
    "               'institution' : [init_fleet, eg1_23_fc_inst]\n",
    "              }\n",
    "full_sim = {'simulation' : {'control' : control,\n",
    "                            'archetypes' : archetypes,\n",
    "                            'region' : full_region,\n",
    "                            'facility' : [init_uox_source, natu_source, non_source, add_source, enrich,\n",
    "                                          du_store, store_no232, mix_no232, store_232, mix_232, lwr_full, \n",
    "                                          non_lwr_cool, add_lwr_cool, mix, lwr_sep,\n",
    "                                          eg23_sink\n",
    "                                         ],\n",
    "                            'recipe' : [dep_u, nat_u, isos_no232, isos_232, enr_no232, enr_232, \n",
    "                                        uox_no232, uox_232, spent_no232, spent_232\n",
    "                                       ]\n",
    "                           }\n",
    "           }"
   ]
  },
  {
   "cell_type": "code",
   "execution_count": 127,
   "metadata": {},
   "outputs": [
    {
     "data": {
      "text/plain": [
       "CompletedProcess(args=['cyclus', 'test_py.py', '-o', '../output/test_py.sqlite'], returncode=-6)"
      ]
     },
     "execution_count": 127,
     "metadata": {},
     "output_type": "execute_result"
    }
   ],
   "source": [
    "filebase = 'test_py'\n",
    "\n",
    "in_file = filebase + '.py'\n",
    "sim_file = '../output/' + filebase + '.sqlite'\n",
    "\n",
    "with open(in_file, 'w') as file: \n",
    "    file.write('SIMULATION = ' + str(full_sim))\n",
    "subprocess.run(['rm', sim_file])\n",
    "subprocess.run(['cyclus', in_file, '-o', sim_file])"
   ]
  },
  {
   "cell_type": "code",
   "execution_count": null,
   "metadata": {},
   "outputs": [],
   "source": []
  }
 ],
 "metadata": {
  "kernelspec": {
   "display_name": "Python 3",
   "language": "python",
   "name": "python3"
  },
  "language_info": {
   "codemirror_mode": {
    "name": "ipython",
    "version": 3
   },
   "file_extension": ".py",
   "mimetype": "text/x-python",
   "name": "python",
   "nbconvert_exporter": "python",
   "pygments_lexer": "ipython3",
   "version": "3.8.10"
  }
 },
 "nbformat": 4,
 "nbformat_minor": 4
}
