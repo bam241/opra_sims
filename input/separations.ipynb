{
 "cells": [
  {
   "cell_type": "code",
   "execution_count": 68,
   "metadata": {},
   "outputs": [],
   "source": [
    "import subprocess"
   ]
  },
  {
   "cell_type": "code",
   "execution_count": 69,
   "metadata": {},
   "outputs": [],
   "source": [
    "from recipe_100ppt import spent_232, spent_no232, ff_232, spentff_232, ff_no232, spentff_no232"
   ]
  },
  {
   "cell_type": "code",
   "execution_count": 70,
   "metadata": {},
   "outputs": [],
   "source": [
    "# Separations\n",
    "sourc1 = {'name' : 'Source1',\n",
    "          'config' : {'Source' : {'outcommod' : 'SpentFuel1',\n",
    "                                  'outrecipe' : 'SpentUOX_232',\n",
    "                                  'throughput' : 1e10}}\n",
    "         }\n",
    "sourc2 = {'name' : 'Source2',\n",
    "          'config' : {'Source' : {'outcommod' : 'SpentFuel2',\n",
    "                                  'outrecipe' : 'SpentUOX_no232',\n",
    "                                  'throughput' : 1e10}}\n",
    "         }\n",
    "streams = {'item' : [{'commod' : 'Pu',\n",
    "                      'info' : {'buf_size' : 1e100,\n",
    "                                'efficiencies' : {'item' : {'comp': 'Pu', 'eff': 0.99}}}},\n",
    "                     {'commod' : 'RU', \n",
    "                      'info' : {'buf_size' : 1e100, \n",
    "                                'efficiencies' : {'item' : {'comp': 'U', 'eff': 0.99}}}}\n",
    "                    ]\n",
    "          }\n",
    "sep = {'name' : 'Sep',\n",
    "       'config' : {'Separations' : {'leftover_commod' : 'Waste',\n",
    "                                    'throughput' : 1e100,\n",
    "                                    'feedbuf_size' : 1e100,\n",
    "                                    'feed_commods' : {'val' : ['SpentFuel1', 'SpentFuel2', \n",
    "                                                               'StoredFF_Add', 'StoredFF_Non']},\n",
    "                                    'feed_commod_prefs' : {'val' : [1, 1, 2, 2]},\n",
    "                                    'streams' : streams}}\n",
    "      }\n",
    "sink = {'name' : 'Waste',\n",
    "        'config' : {'Sink' : {'in_commods' : {'val' : 'Waste'}}}\n",
    "       }"
   ]
  },
  {
   "cell_type": "code",
   "execution_count": 71,
   "metadata": {},
   "outputs": [],
   "source": [
    "# Mixer\n",
    "\n",
    "pu = {'info' : {'mixing_ratio' : 0.01,\n",
    "                'buf_size' : 1e8}, \n",
    "                'commodities' : {'item' : {'commodity' : 'Pu', 'pref' : 1}}\n",
    "     }\n",
    "ru = {'info' : {'mixing_ratio' : 0.99,\n",
    "                'buf_size' : 1e9}, \n",
    "                'commodities' : {'item' : {'commodity' : 'RU', 'pref' : 1}}\n",
    "     }\n",
    "mx1 = {'name' : 'Mix1',\n",
    "       'config' : {'Mixer' : {'in_streams' : {'stream' : [pu, ru]},\n",
    "                              'out_commod' : 'FF_Add',\n",
    "                              'throughput' : 1e10,\n",
    "                              'out_buf_size' : 1e20}}\n",
    "      }\n",
    "mx2 = {'name' : 'Mix2',\n",
    "       'config' : {'Mixer' : {'in_streams' : {'stream' : [pu, ru]},\n",
    "                              'out_commod' : 'FF_Non',\n",
    "                              'throughput' : 1e10,\n",
    "                              'out_buf_size' : 1e20}}\n",
    "      }"
   ]
  },
  {
   "cell_type": "code",
   "execution_count": 72,
   "metadata": {},
   "outputs": [],
   "source": [
    "# Post-Mixer\n",
    "\n",
    "rxt = {'name' : 'Rxtr', \n",
    "       'lifetime' : 960,\n",
    "       'config' : {'Reactor' : {'fuel_incommods' :  {'val' : ['FF_Add', 'FF_Non']},\n",
    "                                'fuel_outcommods' : {'val' : ['SpentFF_Add', 'SpentFF_Non']},\n",
    "                                'fuel_inrecipes' :  {'val' : ['FF_232', 'FF_no232']},\n",
    "                                'fuel_outrecipes' : {'val' : ['SpentFF_232', 'SpentFF_no232']},\n",
    "                                'fuel_prefs' : {'val' : [1, 2]},\n",
    "                                'cycle_time' : 3,\n",
    "                                'refuel_time' : 0,\n",
    "                                'assem_size' : 7490,\n",
    "                                'n_assem_core' : 5,\n",
    "                                'n_assem_batch' : 1,\n",
    "                                'power_cap' : 400\n",
    "                               }\n",
    "                  }\n",
    "      }\n",
    "\n",
    "stor1 = {'name' : 'Storage1',\n",
    "         'config' : {'Storage' : {'in_commods' : {'val' : 'SpentFF_Add'},\n",
    "                                  'out_commods' : {'val' : 'StoredFF_Add'},\n",
    "                                  'in_recipe' : 'SpentFF_232',\n",
    "                                  'residence_time' : 1\n",
    "                                 }\n",
    "                    }\n",
    "        }\n",
    "stor2 = {'name' : 'Storage2',\n",
    "         'config' : {'Storage' : {'in_commods' : {'val' : 'SpentFF_Non'},\n",
    "                                  'out_commods' : {'val' : 'StoredFF_Non'},\n",
    "                                  'in_recipe' : 'SpentFF_no232',\n",
    "                                  'residence_time' : 1\n",
    "                                 }\n",
    "                    }\n",
    "        }"
   ]
  },
  {
   "cell_type": "code",
   "execution_count": 73,
   "metadata": {},
   "outputs": [],
   "source": [
    "control = {'duration' : 20, \n",
    "           'startmonth' : 1, \n",
    "           'startyear' : 2022\n",
    "          }\n",
    "archetypes = {'spec' : [{'lib' : 'cycamore', 'name' : 'Source'},\n",
    "                        {'lib' : 'cycamore', 'name' : 'Separations'},\n",
    "                        {'lib' : 'cycamore', 'name' : 'Mixer'},\n",
    "                        {'lib' : 'cycamore', 'name' : 'Storage'},\n",
    "                        {'lib' : 'cycamore', 'name' : 'Reactor'},\n",
    "                        {'lib' : 'cycamore', 'name' : 'Sink'},\n",
    "                        {'lib' : 'cycamore', 'name' : 'ManagerInst'},\n",
    "                        {'lib' : 'cycamore', 'name' : 'GrowthRegion'},\n",
    "                       ]\n",
    "             }\n",
    "lin_func = {'piece' : [{'start' : 2,\n",
    "                        'function' : {'type' : 'linear',\n",
    "                                      'params' : '0 800'\n",
    "                                     }\n",
    "                       }]\n",
    "           }\n",
    "\n",
    "growth_region = {'GrowthRegion' : {'growth' : {'item' : [{'commod' : 'power',\n",
    "                                                          'piecewise_function' : lin_func\n",
    "                                                         }]\n",
    "                                              }\n",
    "                                  }\n",
    "                }\n",
    "region = {'name' : 'Region', \n",
    "          'config' : growth_region, \n",
    "          'institution' : {'name' : 'Inst',\n",
    "                           'initialfacilitylist' : {'entry' : [{'number' : 1, 'prototype' : 'Source1'},\n",
    "                                                               {'number' : 1, 'prototype' : 'Source2'},\n",
    "                                                               {'number' : 1, 'prototype' : 'Sep'},\n",
    "                                                               {'number' : 1, 'prototype' : 'Mix1'},\n",
    "                                                               {'number' : 1, 'prototype' : 'Mix2'},\n",
    "                                                               {'number' : 1, 'prototype' : 'Rxtr'},\n",
    "                                                               {'number' : 1, 'prototype' : 'Storage1'},\n",
    "                                                               {'number' : 1, 'prototype' : 'Storage2'},\n",
    "                                                               {'number' : 1, 'prototype' : 'Waste'}\n",
    "                                                              ]},\n",
    "                           'config' : {'ManagerInst' : {'prototypes' : {'val' : 'Rxtr'}}}\n",
    "                          }\n",
    "         }\n",
    "sim = {'simulation' : {'control' : control,\n",
    "                       'archetypes' : archetypes,\n",
    "                       'region' : region,\n",
    "                       'facility' : [sourc1, sourc2, sep, mx1, mx2, rxt, stor1, stor2, sink],\n",
    "                       'recipe' : [spent_232, spent_no232, ff_232, spentff_232, ff_no232, spentff_no232]\n",
    "                      }\n",
    "      }\n"
   ]
  },
  {
   "cell_type": "code",
   "execution_count": 74,
   "metadata": {},
   "outputs": [
    {
     "data": {
      "text/plain": [
       "CompletedProcess(args=['cyclus', 'sep_failure.py', '-o', '../output/sep_failure.sqlite'], returncode=0)"
      ]
     },
     "execution_count": 74,
     "metadata": {},
     "output_type": "execute_result"
    }
   ],
   "source": [
    "filebase = 'sep_failure'\n",
    "\n",
    "in_file = filebase + '.py'\n",
    "sim_file = '../output/' + filebase + '.sqlite'\n",
    "\n",
    "with open(in_file, 'w') as file: \n",
    "    file.write('SIMULATION = ' + str(sim))\n",
    "subprocess.run(['rm', sim_file])\n",
    "subprocess.run(['cyclus', in_file, '-o', sim_file])"
   ]
  },
  {
   "cell_type": "code",
   "execution_count": null,
   "metadata": {},
   "outputs": [],
   "source": []
  }
 ],
 "metadata": {
  "kernelspec": {
   "display_name": "Python 3",
   "language": "python",
   "name": "python3"
  },
  "language_info": {
   "codemirror_mode": {
    "name": "ipython",
    "version": 3
   },
   "file_extension": ".py",
   "mimetype": "text/x-python",
   "name": "python",
   "nbconvert_exporter": "python",
   "pygments_lexer": "ipython3",
   "version": "3.8.10"
  }
 },
 "nbformat": 4,
 "nbformat_minor": 4
}
