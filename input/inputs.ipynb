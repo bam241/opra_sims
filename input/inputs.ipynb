{
 "cells": [
  {
   "cell_type": "code",
   "execution_count": 24,
   "metadata": {},
   "outputs": [],
   "source": [
    "import subprocess\n",
    "import numpy as np"
   ]
  },
  {
   "cell_type": "markdown",
   "metadata": {},
   "source": [
    "# Protoype Definitions:\n",
    "1. LWR"
   ]
  },
  {
   "cell_type": "markdown",
   "metadata": {},
   "source": [
    "## 1. LWR"
   ]
  },
  {
   "cell_type": "code",
   "execution_count": 69,
   "metadata": {},
   "outputs": [],
   "source": [
    "lwr = {'name' : 'LWR',\n",
    "       'lifetime' : 720,\n",
    "       'config' : {'Reactor' : {'fuel_incommods' :  {'val' : ['commod',]},\n",
    "                                'fuel_inrecipes' :  {'val' : ['commod_recipe',]},\n",
    "                                'fuel_outcommods' : {'val' : ['commod',]},\n",
    "                                'fuel_outrecipes' : {'val' : ['commod_recipe',]},\n",
    "                                'cycle_time' : 1,\n",
    "                                'refuel_time' : 0,\n",
    "                                'assem_size' : 1,\n",
    "                                'n_assem_core' : 1,\n",
    "                                'n_assem_batch' : 1,\n",
    "                                'power_cap' : 1000\n",
    "                               }\n",
    "                  }\n",
    "      }"
   ]
  },
  {
   "cell_type": "markdown",
   "metadata": {},
   "source": [
    "# Regions and Institutions:\n",
    "1. Deploy Inst (Init Fleet)\n",
    "2. Manager Inst (Remainder of FC facilities)\n",
    "3. Growth Region"
   ]
  },
  {
   "cell_type": "markdown",
   "metadata": {},
   "source": [
    "## 1. Init LWR Fleet (Deploy Inst)"
   ]
  },
  {
   "cell_type": "code",
   "execution_count": 60,
   "metadata": {},
   "outputs": [],
   "source": [
    "n_inits = 100\n",
    "init_lwr_prototypes = ['LWR' for x in range(0, n_inits)]\n",
    "n_builds = [1 for x in range(0, n_inits)]\n",
    "build_times = [x + 1 for x in range(0, 17) for y in range(0,6)]\n",
    "del build_times[-3:-1]\n",
    "lifetimes = [181, 186, 191, 196, \n",
    "             201, 206, 211, 216, 221, 226, 231, 236, 241, 246, 251, 256, 261, 266, 271, 276, 281, 286, 291, 296,\n",
    "             301, 306, 311, 316, 321, 326, 331, 336, 341, 346, 351, 356, 361, 366, 371, 376, 381, 386, 391, 396,\n",
    "             401, 406, 411, 416, 421, 426, 431, 436, 441, 446, 451, 456, 461, 466, 471, 476, 481, 486, 491, 496,\n",
    "             501, 506, 511, 516, 521, 526, 531, 536, 541, 546, 551, 556, 561, 566, 571, 576, 581, 586, 591, 596,\n",
    "             601, 606, 611, 616, 621, 626, 631, 636, 641, 646, 651, 656, 661, 666, 671, 676\n",
    "            ]\n",
    "\n",
    "assert len(init_lwr_prototypes) == n_inits\n",
    "assert len(n_builds) == n_inits\n",
    "assert len(build_times) == n_inits\n",
    "assert len(lifetimes) == n_inits"
   ]
  },
  {
   "cell_type": "code",
   "execution_count": 70,
   "metadata": {},
   "outputs": [],
   "source": [
    "init_fleet = {'name' : 'InitFleet', \n",
    "              'config' : {'DeployInst' : {'prototypes' :  {'val' : init_lwr_prototypes},\n",
    "                                          'n_build' :     {'val' : n_builds},\n",
    "                                          'build_times' : {'val' : build_times},\n",
    "                                          'lifetimes' :   {'val' : lifetimes}\n",
    "                                         }\n",
    "                         }\n",
    "             }"
   ]
  },
  {
   "cell_type": "markdown",
   "metadata": {},
   "source": [
    "## 2. FC Inst (Manager Inst)"
   ]
  },
  {
   "cell_type": "code",
   "execution_count": 71,
   "metadata": {},
   "outputs": [],
   "source": [
    "fc_prototypes = ['Source', 'LWR', 'Sink']\n",
    "\n",
    "fc_inst = {'name': 'FCInst', \n",
    "           'initialfacilitylist' : {'entry': [{'number': 1, 'prototype': 'Source'},\n",
    "                                              {'number': 1, 'prototype': 'Sink'}]\n",
    "                                   },\n",
    "           'config' : {'ManagerInst': {'prototypes' : {'val' : fc_prototypes}\n",
    "                                      }\n",
    "                      }\n",
    "          }"
   ]
  },
  {
   "cell_type": "markdown",
   "metadata": {},
   "source": [
    "## 3. Growth Region"
   ]
  },
  {
   "cell_type": "code",
   "execution_count": 57,
   "metadata": {},
   "outputs": [],
   "source": [
    "lin_func = {'piece' : [{'start' : 18,\n",
    "                        'function' : {'type' : 'linear',\n",
    "                                      'params' : '0 100000'\n",
    "                                     }\n",
    "                       }]\n",
    "           }\n",
    "\n",
    "growth_region = {'GrowthRegion' : {'growth' : {'item' : [{'commod' : 'power',\n",
    "                                                          'piecewise_function' : lin_func\n",
    "                                                         }]\n",
    "                                              }\n",
    "                                  }\n",
    "                }"
   ]
  },
  {
   "cell_type": "markdown",
   "metadata": {},
   "source": [
    "# Recipes\n",
    "1. Depleted U\n",
    "2. Natural U\n",
    "3. NonAdditive U Isotopes (U234)\n",
    "4. Additive U Isotopes (U232, U233, U234)\n",
    "5. Almost UOX NonAdditive Enr Ratio\n",
    "6. Almost UOX Additive Enr Ratio\n",
    "7. UOX without Additive\n",
    "8. UOX with Additive\n",
    "9. Spent UOX from #7\n",
    "10. Spent UOX from #8"
   ]
  },
  {
   "cell_type": "code",
   "execution_count": null,
   "metadata": {},
   "outputs": [],
   "source": [
    "#1\n",
    "dep_u = {'name': 'DepU',\n",
    "         'basis': 'mass',\n",
    "         'nuclide': [{'id': 'U235', 'comp': 0.0025}, \n",
    "                     {'id': 'U238', 'comp': 0.9975}]\n",
    "        }\n",
    "#2\n",
    "nat_u = {'name': 'NatU',\n",
    "         'basis': 'mass',\n",
    "         'nuclide': [{'id': 'U235', 'comp': 0.007110}, \n",
    "                     {'id': 'U238', 'comp': 0.992890}]\n",
    "        }\n",
    "#3\n",
    "non_isos = {'name': 'NonAdditive_234',\n",
    "            'basis': 'mass',\n",
    "            'nuclide': [{'id': 'U234', 'comp': 1.0},]\n",
    "           }\n",
    "#4\n",
    "add_isos = {'name': 'Additive_232_233_234',\n",
    "            'basis': 'mass',\n",
    "            'nuclide': [{'id': 'U232', 'comp': 1.0},\n",
    "                        {'id': 'U233', 'comp': 1.0},\n",
    "                        {'id': 'U234', 'comp': 1.0}]\n",
    "           }"
   ]
  },
  {
   "cell_type": "markdown",
   "metadata": {},
   "source": [
    "# Main Input File"
   ]
  },
  {
   "cell_type": "code",
   "execution_count": 75,
   "metadata": {},
   "outputs": [],
   "source": [
    "control = {'duration': '12', \n",
    "           'startmonth': '1', \n",
    "           'startyear': '2020',\n",
    "           'dt': 86400}\n",
    "\n",
    "archetypes = {'spec': [{'lib': 'cycamore', 'name': 'Source'},\n",
    "                       {'lib': 'cycamore', 'name': 'Enrichment'},\n",
    "                       {'lib': 'cycamore', 'name': 'Mixer'},\n",
    "                       {'lib': 'cycamore', 'name': 'Reactor'},\n",
    "                       {'lib': 'cycamore', 'name': 'Storage'},\n",
    "                       {'lib': 'cycamore', 'name': 'Sink'},\n",
    "                       {'lib': 'cycamore', 'name': 'DeployInst'},\n",
    "                       {'lib': 'cycamore', 'name': 'ManagerInst'},\n",
    "                       {'lib': 'cycamore', 'name': 'GrowthRegion'},\n",
    "                      ]\n",
    "             }\n",
    "\n",
    "region = {'name' : 'GrowthRegion', \n",
    "          'config' : growth_region, \n",
    "          'institution' : [init_fleet, fc_inst]\n",
    "         }\n",
    "\n",
    "source = {'name': 'Source', \n",
    "          'config': {'Source': {'outcommod': 'commod',\n",
    "                                'outrecipe': 'commod_recipe',\n",
    "                                'throughput': '1'\n",
    "                               }\n",
    "                    }\n",
    "         }\n",
    "\n",
    "sink = {'name': 'Sink', \n",
    "        'config': {'Sink': {'in_commods': {'val': 'commod'}, \n",
    "                            'capacity': '12', \n",
    "                            'recipe_name': 'commod_recipe'\n",
    "                           }\n",
    "                  }\n",
    "       }"
   ]
  },
  {
   "cell_type": "code",
   "execution_count": 73,
   "metadata": {},
   "outputs": [
    {
     "data": {
      "text/plain": [
       "CompletedProcess(args=['cyclus', 'test_py.py', '-o', 'test_py.sqlite'], returncode=0)"
      ]
     },
     "execution_count": 73,
     "metadata": {},
     "output_type": "execute_result"
    }
   ],
   "source": [
    "test_sim = {'simulation' : {'control' : control,\n",
    "                            'archetypes' : archetypes,\n",
    "                            'region' : region,\n",
    "                            'facility' : [source, lwr, sink],\n",
    "                            'recipe' : [commod_recipe,]\n",
    "                           }\n",
    "           }\n",
    "\n",
    "with open('test_py.py', 'w') as outfile: \n",
    "    outfile.write('SIMULATION = ' + str(test_sim))\n",
    "subprocess.run(['rm', 'test_py.sqlite'])\n",
    "subprocess.run(['cyclus', 'test_py.py', '-o', 'test_py.sqlite'])\n",
    "#, stdout=subprocess.PIPE)\n",
    "#subprocess.run(['cyclus', 'test_py.py', '-o', 'test_py.sqlite'], capture_output=True).stdout"
   ]
  },
  {
   "cell_type": "code",
   "execution_count": 37,
   "metadata": {},
   "outputs": [],
   "source": [
    "import cymetric as cym\n",
    "from cymetric import graphs as cgr"
   ]
  },
  {
   "cell_type": "code",
   "execution_count": 74,
   "metadata": {},
   "outputs": [
    {
     "data": {
      "image/svg+xml": [
       "<?xml version=\"1.0\" encoding=\"UTF-8\" standalone=\"no\"?>\n",
       "<!DOCTYPE svg PUBLIC \"-//W3C//DTD SVG 1.1//EN\"\n",
       " \"http://www.w3.org/Graphics/SVG/1.1/DTD/svg11.dtd\">\n",
       "<!-- Generated by graphviz version 2.43.0 (0)\n",
       " -->\n",
       "<!-- Title: G Pages: 1 -->\n",
       "<svg width=\"571pt\" height=\"131pt\"\n",
       " viewBox=\"0.00 0.00 570.84 131.00\" xmlns=\"http://www.w3.org/2000/svg\" xmlns:xlink=\"http://www.w3.org/1999/xlink\">\n",
       "<g id=\"graph0\" class=\"graph\" transform=\"scale(1 1) rotate(0) translate(4 127)\">\n",
       "<title>G</title>\n",
       "<polygon fill=\"white\" stroke=\"transparent\" points=\"-4,4 -4,-127 566.84,-127 566.84,4 -4,4\"/>\n",
       "<!-- GrowthRegion -->\n",
       "<g id=\"node1\" class=\"node\">\n",
       "<title>GrowthRegion</title>\n",
       "<ellipse fill=\"none\" stroke=\"black\" cx=\"77.34\" cy=\"-105\" rx=\"77.19\" ry=\"18\"/>\n",
       "<text text-anchor=\"middle\" x=\"77.34\" y=\"-101.3\" font-family=\"Times,serif\" font-size=\"14.00\">GrowthRegion</text>\n",
       "</g>\n",
       "<!-- InitFleet -->\n",
       "<g id=\"node2\" class=\"node\">\n",
       "<title>InitFleet</title>\n",
       "<ellipse fill=\"none\" stroke=\"black\" cx=\"223.34\" cy=\"-105\" rx=\"50.89\" ry=\"18\"/>\n",
       "<text text-anchor=\"middle\" x=\"223.34\" y=\"-101.3\" font-family=\"Times,serif\" font-size=\"14.00\">InitFleet</text>\n",
       "</g>\n",
       "<!-- FCInst -->\n",
       "<g id=\"node3\" class=\"node\">\n",
       "<title>FCInst</title>\n",
       "<ellipse fill=\"none\" stroke=\"black\" cx=\"334.34\" cy=\"-105\" rx=\"42.49\" ry=\"18\"/>\n",
       "<text text-anchor=\"middle\" x=\"334.34\" y=\"-101.3\" font-family=\"Times,serif\" font-size=\"14.00\">FCInst</text>\n",
       "</g>\n",
       "<!-- Source -->\n",
       "<g id=\"node4\" class=\"node\">\n",
       "<title>Source</title>\n",
       "<ellipse fill=\"none\" stroke=\"black\" cx=\"437.34\" cy=\"-105\" rx=\"42.79\" ry=\"18\"/>\n",
       "<text text-anchor=\"middle\" x=\"437.34\" y=\"-101.3\" font-family=\"Times,serif\" font-size=\"14.00\">Source</text>\n",
       "</g>\n",
       "<!-- Sink -->\n",
       "<g id=\"node5\" class=\"node\">\n",
       "<title>Sink</title>\n",
       "<ellipse fill=\"none\" stroke=\"black\" cx=\"437.34\" cy=\"-18\" rx=\"31.4\" ry=\"18\"/>\n",
       "<text text-anchor=\"middle\" x=\"437.34\" y=\"-14.3\" font-family=\"Times,serif\" font-size=\"14.00\">Sink</text>\n",
       "</g>\n",
       "<!-- Source&#45;&gt;Sink -->\n",
       "<g id=\"edge1\" class=\"edge\">\n",
       "<title>Source&#45;&gt;Sink</title>\n",
       "<path fill=\"none\" stroke=\"black\" d=\"M437.34,-86.8C437.34,-75.16 437.34,-59.55 437.34,-46.24\"/>\n",
       "<polygon fill=\"black\" stroke=\"black\" points=\"440.84,-46.18 437.34,-36.18 433.84,-46.18 440.84,-46.18\"/>\n",
       "<text text-anchor=\"middle\" x=\"474.84\" y=\"-57.8\" font-family=\"Times,serif\" font-size=\"14.00\">1.20e+01 </text>\n",
       "</g>\n",
       "<!-- LWR -->\n",
       "<g id=\"node6\" class=\"node\">\n",
       "<title>LWR</title>\n",
       "<ellipse fill=\"none\" stroke=\"black\" cx=\"530.34\" cy=\"-105\" rx=\"32.49\" ry=\"18\"/>\n",
       "<text text-anchor=\"middle\" x=\"530.34\" y=\"-101.3\" font-family=\"Times,serif\" font-size=\"14.00\">LWR</text>\n",
       "</g>\n",
       "</g>\n",
       "</svg>\n"
      ],
      "text/plain": [
       "<graphviz.graphs.Digraph at 0x7faf4111fbb0>"
      ]
     },
     "execution_count": 74,
     "metadata": {},
     "output_type": "execute_result"
    }
   ],
   "source": [
    "db = cym.dbopen('./test_py.sqlite')\n",
    "ev = cym.Evaluator(db=db, write=False)\n",
    "cgr.flow_graph(ev, label='mass')"
   ]
  },
  {
   "cell_type": "code",
   "execution_count": null,
   "metadata": {},
   "outputs": [],
   "source": []
  }
 ],
 "metadata": {
  "kernelspec": {
   "display_name": "Python 3",
   "language": "python",
   "name": "python3"
  },
  "language_info": {
   "codemirror_mode": {
    "name": "ipython",
    "version": 3
   },
   "file_extension": ".py",
   "mimetype": "text/x-python",
   "name": "python",
   "nbconvert_exporter": "python",
   "pygments_lexer": "ipython3",
   "version": "3.8.10"
  }
 },
 "nbformat": 4,
 "nbformat_minor": 4
}
