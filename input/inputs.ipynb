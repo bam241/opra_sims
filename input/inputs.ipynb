{
 "cells": [
  {
   "cell_type": "code",
   "execution_count": null,
   "metadata": {},
   "outputs": [],
   "source": []
  },
  {
   "cell_type": "code",
   "execution_count": null,
   "metadata": {},
   "outputs": [],
   "source": []
  },
  {
   "cell_type": "code",
   "execution_count": 11,
   "metadata": {},
   "outputs": [],
   "source": [
    "control = {'duration': '12', \n",
    "           'startmonth': '1', \n",
    "           'startyear': '2020',\n",
    "           'dt': 86400}\n",
    "archetypes = {'spec': [{'lib': 'cycamore', 'name': 'Source'}, \n",
    "                       {'lib': 'cycamore', 'name': 'Sink'}, \n",
    "                       {'lib': 'agents', 'name': 'NullRegion'}, \n",
    "                       {'lib': 'agents', 'name': 'NullInst'}]\n",
    "             }\n",
    "region = {'name' : 'Region', \n",
    "          'config' : {'NullRegion': None}, \n",
    "          'institution' : {'name': 'Inst', \n",
    "                           'initialfacilitylist' : {'entry': [{'number': 1, 'prototype': 'Source'}, \n",
    "                                                              {'number': 1, 'prototype': 'Sink'}]\n",
    "                                                   },\n",
    "                           'config' : {'NullInst': None}\n",
    "                          }\n",
    "         }\n",
    "source = {'name': 'Source', \n",
    "          'config': {'Source': {'outcommod': 'commod',\n",
    "                                'outrecipe': 'commod_recipe',\n",
    "                                'throughput': '1'\n",
    "                               }\n",
    "                    }\n",
    "         }\n",
    "sink = {'name': 'Sink', \n",
    "        'config': {'Sink': {'in_commods': {'val': 'commod'}, \n",
    "                            'capacity': '12', \n",
    "                            'recipe_name': 'commod_recipe'\n",
    "                           }\n",
    "                  }\n",
    "       }\n",
    "commod_recipe = {'name': 'commod_recipe',\n",
    "                 'basis': 'mass',\n",
    "                 'nuclide': {'id': 'H1', 'comp': 1}\n",
    "                 }"
   ]
  },
  {
   "cell_type": "code",
   "execution_count": 12,
   "metadata": {},
   "outputs": [],
   "source": [
    "test_sim = {'simulation' : \n",
    "    {'control' : control,\n",
    "     'archetypes' : archetypes,\n",
    "     'region' : region,\n",
    "     'facility' : [source, sink], \n",
    "     'recipe' : [commod_recipe,]\n",
    "    }\n",
    "}"
   ]
  },
  {
   "cell_type": "code",
   "execution_count": 13,
   "metadata": {},
   "outputs": [],
   "source": [
    "import subprocess\n",
    "\n",
    "with open('test_py.py', 'w') as outfile: \n",
    "    outfile.write('SIMULATION = ' + str(test_sim))"
   ]
  },
  {
   "cell_type": "code",
   "execution_count": 17,
   "metadata": {},
   "outputs": [
    {
     "data": {
      "text/plain": [
       "CompletedProcess(args=['cyclus', 'test_py.py', '-o', 'test_py.sqlite'], returncode=1)"
      ]
     },
     "execution_count": 17,
     "metadata": {},
     "output_type": "execute_result"
    }
   ],
   "source": [
    "#subprocess.run(['cyclus', 'test_py.py', '-o', 'test_py.sqlite'])#, stdout=subprocess.PIPE)\n",
    "subprocess.run(['cyclus', 'test_py.py', '-o', 'test_py.sqlite'], capture_output=True).stdout"
   ]
  },
  {
   "cell_type": "code",
   "execution_count": null,
   "metadata": {},
   "outputs": [],
   "source": []
  }
 ],
 "metadata": {
  "kernelspec": {
   "display_name": "Python 3",
   "language": "python",
   "name": "python3"
  },
  "language_info": {
   "codemirror_mode": {
    "name": "ipython",
    "version": 3
   },
   "file_extension": ".py",
   "mimetype": "text/x-python",
   "name": "python",
   "nbconvert_exporter": "python",
   "pygments_lexer": "ipython3",
   "version": "3.8.10"
  }
 },
 "nbformat": 4,
 "nbformat_minor": 4
}
