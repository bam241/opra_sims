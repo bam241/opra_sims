{
 "cells": [
  {
   "cell_type": "code",
   "execution_count": 73,
   "metadata": {},
   "outputs": [],
   "source": [
    "import subprocess\n",
    "import numpy as np"
   ]
  },
  {
   "cell_type": "code",
   "execution_count": 74,
   "metadata": {},
   "outputs": [],
   "source": [
    "# Variable params\n",
    "intro_time = 12 * 5 # intro time for additive\n",
    "sim_duration = 12 * 100 # might need longer for transitions\n",
    "trans_time = 12 * 15 # transition time for EG01 --> EGXX\n",
    "# Transition time is assumed to always be greater than intro time\n",
    "\n",
    "# \"Non-Variable\" Params\n",
    "n_init_rxtrs = 100\n",
    "n_assem_core = 3\n",
    "assem_size = 29565\n",
    "init_total_assem_size = n_init_rxtrs * n_assem_core * assem_size\n",
    "cycle_time = 18\n",
    "rxtr_life = 12 * 40 "
   ]
  },
  {
   "cell_type": "markdown",
   "metadata": {},
   "source": [
    "# EG01 \n",
    "\n",
    "## Protoype Definitions"
   ]
  },
  {
   "cell_type": "code",
   "execution_count": 75,
   "metadata": {},
   "outputs": [],
   "source": [
    "init_uox_source = {'name' : 'SourceInitUOX', \n",
    "                   'config' : {'Source' : {'outcommod' : 'InitUOX',\n",
    "                                           'outrecipe' : 'UOX_no232',\n",
    "                                           'inventory_size' : init_total_assem_size\n",
    "                                          }\n",
    "                              }\n",
    "                  }"
   ]
  },
  {
   "cell_type": "code",
   "execution_count": 76,
   "metadata": {},
   "outputs": [],
   "source": [
    "from eg01_facilities import (natu_source, non_source, add_source, enrich, \n",
    "                             du_store, store_no232, mix_no232, store_232, \n",
    "                             mix_232, lwr_cool, lwr_store, sink)"
   ]
  },
  {
   "cell_type": "code",
   "execution_count": 77,
   "metadata": {},
   "outputs": [],
   "source": [
    "# play around with contraining additive source throughput\n",
    "#add_source['config']['Source']['throughput'] = 1e5"
   ]
  },
  {
   "cell_type": "code",
   "execution_count": 78,
   "metadata": {},
   "outputs": [],
   "source": [
    "# LWR prototype for full additive availability upon introduction\n",
    "lwr_full = {'name' : 'LWR',\n",
    "            'lifetime' : rxtr_life,\n",
    "            'config' : {'Reactor' : {'fuel_incommods' :  {'val' : ['UOX_Add', 'UOX_Non', 'InitUOX']},\n",
    "                                     'fuel_outcommods' : {'val' : ['SpentUOX_Add', 'SpentUOX_Non', 'SpentUOX_Non']},\n",
    "                                     'fuel_inrecipes' :  {'val' : ['UOX_232', 'UOX_no232', 'UOX_no232']},\n",
    "                                     'fuel_outrecipes' : {'val' : ['SpentUOX_232', 'SpentUOX_no232', 'SpentUOX_no232']},\n",
    "                                     'fuel_prefs' : {'val' : [1, 2, 2.5]},\n",
    "                                     'pref_change_times' : {'val' : intro_time},\n",
    "                                     'pref_change_commods' : {'val' : 'UOX_Add'},\n",
    "                                     'pref_change_values' : {'val' : 3},\n",
    "                                     'cycle_time' : cycle_time,\n",
    "                                     'refuel_time' : 0,\n",
    "                                     'assem_size' : assem_size,\n",
    "                                     'n_assem_core' : n_assem_core,\n",
    "                                     'n_assem_batch' : 1,\n",
    "                                     'power_name' : 'PowerLWR',\n",
    "                                     'power_cap' : 1000\n",
    "                                    }\n",
    "                       }\n",
    "           }"
   ]
  },
  {
   "cell_type": "markdown",
   "metadata": {},
   "source": [
    "## Regions and Institutions\n",
    "\n",
    "### 1. Init LWR Fleet (Deploy Inst)"
   ]
  },
  {
   "cell_type": "code",
   "execution_count": 79,
   "metadata": {},
   "outputs": [
    {
     "name": "stdout",
     "output_type": "stream",
     "text": [
      "[15.083333333333334, 15.5, 15.916666666666666, 16.333333333333332, 16.75, 17.166666666666668, 17.583333333333332, 18.0, 18.416666666666668, 18.833333333333332, 19.25, 19.666666666666668, 20.083333333333332, 20.5, 20.916666666666668, 21.333333333333332, 21.75, 22.166666666666668, 22.583333333333332, 23.0, 23.416666666666668, 23.833333333333332, 24.25, 24.666666666666668, 25.083333333333332, 25.5, 25.916666666666668, 26.333333333333332, 26.75, 27.166666666666668, 27.583333333333332, 28.0, 28.416666666666668, 28.833333333333332, 29.25, 29.666666666666668, 30.083333333333332, 30.5, 30.916666666666668, 31.333333333333332, 31.75, 32.166666666666664, 32.583333333333336, 33.0, 33.416666666666664, 33.833333333333336, 34.25, 34.666666666666664, 35.083333333333336, 35.5, 35.916666666666664, 36.333333333333336, 36.75, 37.166666666666664, 37.583333333333336, 38.0, 38.416666666666664, 38.833333333333336, 39.25, 39.666666666666664, 40.083333333333336, 40.5, 40.916666666666664, 41.333333333333336, 41.75, 42.166666666666664, 42.583333333333336, 43.0, 43.416666666666664, 43.833333333333336, 44.25, 44.666666666666664, 45.083333333333336, 45.5, 45.916666666666664, 46.333333333333336, 46.75, 47.166666666666664, 47.583333333333336, 48.0, 48.416666666666664, 48.833333333333336, 49.25, 49.666666666666664, 50.083333333333336, 50.5, 50.916666666666664, 51.333333333333336, 51.75, 52.166666666666664, 52.583333333333336, 53.0, 53.416666666666664, 53.833333333333336, 54.25, 54.666666666666664, 55.083333333333336, 55.5, 55.916666666666664, 56.333333333333336]\n"
     ]
    }
   ],
   "source": [
    "init_lwr_prototypes = ['LWR' for x in range(0, n_init_rxtrs)]\n",
    "n_builds = [1 for x in range(0, n_init_rxtrs)]\n",
    "# staggering build times over first 18 timesteps so that reactors \n",
    "# don't all cycle together\n",
    "build_times = [x + 1 for x in range(0, 17) for y in range(0,6)]\n",
    "del build_times[-3:-1]\n",
    "# Lifetimes borrowed from previous EG scenario work presuming a \n",
    "# start year of 2000 and first decommission in 2015. Updated to \n",
    "# better stagger decommissioning.\n",
    "old_lives = [181, 186, 191, 196, \n",
    "             201, 206, 211, 216, 221, 226, 231, 236, 241, 246, 251, 256, 261, 266, 271, 276, 281, 286, 291, 296,\n",
    "             301, 306, 311, 316, 321, 326, 331, 336, 341, 346, 351, 356, 361, 366, 371, 376, 381, 386, 391, 396,\n",
    "             401, 406, 411, 416, 421, 426, 431, 436, 441, 446, 451, 456, 461, 466, 471, 476, 481, 486, 491, 496,\n",
    "             501, 506, 511, 516, 521, 526, 531, 536, 541, 546, 551, 556, 561, 566, 571, 576, 581, 586, 591, 596,\n",
    "             601, 606, 611, 616, 621, 626, 631, 636, 641, 646, 651, 656, 661, 666, 671, 676\n",
    "            ]\n",
    "# Overwrite lifetimes to have decommission start 1.5 year in, \n",
    "# expecting a sim start of 2022\n",
    "lifetimes = [x - 163 for x in old_lives]\n",
    "lifetimes_y = [x/12. for x in old_lives]\n",
    "print(lifetimes_y)\n",
    "assert len(init_lwr_prototypes) == n_init_rxtrs\n",
    "assert len(n_builds) == n_init_rxtrs\n",
    "assert len(build_times) == n_init_rxtrs\n",
    "assert len(lifetimes) == n_init_rxtrs"
   ]
  },
  {
   "cell_type": "code",
   "execution_count": 80,
   "metadata": {},
   "outputs": [],
   "source": [
    "init_fleet = {'name' : 'InitFleet', \n",
    "              'config' : {'DeployInst' : {'prototypes' :  {'val' : init_lwr_prototypes},\n",
    "                                          'n_build' :     {'val' : n_builds},\n",
    "                                          'build_times' : {'val' : build_times},\n",
    "                                          'lifetimes' :   {'val' : lifetimes}\n",
    "                                         }\n",
    "                         }\n",
    "             }"
   ]
  },
  {
   "cell_type": "markdown",
   "metadata": {},
   "source": [
    "### 2. EG01 FC Facilities: Manager Inst"
   ]
  },
  {
   "cell_type": "code",
   "execution_count": 81,
   "metadata": {},
   "outputs": [],
   "source": [
    "eg1_fc_prototypes = ['SourceNatU', 'SourceNonIsos', 'SourceAddIsos', 'Enrichment', 'StorageDepU', \n",
    "                     'UOXStrNon', 'UOXMixNon', 'UOXStrAdd', 'UOXMixAdd', 'LWR', \n",
    "                     'UOXCool', 'UOXStr', 'Waste'\n",
    "                    ]\n",
    "\n",
    "eg1_fc_inst = {'name' : 'FCInstEG01', \n",
    "               'initialfacilitylist' : {'entry' : [{'number' : 1, 'prototype' : 'SourceInitUOX'},\n",
    "                                                   {'number' : 1, 'prototype' : 'SourceNatU'},\n",
    "                                                   {'number' : 1, 'prototype' : 'SourceNonIsos'},\n",
    "                                                   {'number' : 1, 'prototype' : 'SourceAddIsos'},\n",
    "                                                   {'number' : 1, 'prototype' : 'Enrichment'},\n",
    "                                                   {'number' : 1, 'prototype' : 'StorageDepU'},\n",
    "                                                   {'number' : 1, 'prototype' : 'UOXStrNon'},\n",
    "                                                   {'number' : 1, 'prototype' : 'UOXMixNon'},\n",
    "                                                   {'number' : 1, 'prototype' : 'UOXStrAdd'},\n",
    "                                                   {'number' : 1, 'prototype' : 'UOXMixAdd'},\n",
    "                                                   {'number' : 1, 'prototype' : 'UOXCool'},\n",
    "                                                   {'number' : 1, 'prototype' : 'UOXStr'},\n",
    "                                                   {'number' : 1, 'prototype' : 'Waste'}]\n",
    "                                       },\n",
    "               'config' : {'ManagerInst' : {'prototypes' : {'val' : eg1_fc_prototypes}}}\n",
    "              }"
   ]
  },
  {
   "cell_type": "markdown",
   "metadata": {},
   "source": [
    "### 3. Growth Regions: Pick Flat or 1% Growth"
   ]
  },
  {
   "cell_type": "code",
   "execution_count": 82,
   "metadata": {},
   "outputs": [],
   "source": [
    "# 1% growth per year\n",
    "\n",
    "month_grow_rate = 0.01 / 12\n",
    "exp_str = '100000 ' + str(month_grow_rate) + ' 0'\n",
    "exp_func = {'piece' : [{'start' : 18,\n",
    "                        'function' : {'type' : 'exponential', 'params' : exp_str}\n",
    "                       }\n",
    "                      ]\n",
    "           }\n",
    "growth_region = {'GrowthRegion' : {'growth' : {'item' : [{'commod' : 'PowerLWR',\n",
    "                                                          'piecewise_function' : exp_func\n",
    "                                                         }\n",
    "                                                        ]\n",
    "                                              }\n",
    "                                  }\n",
    "                }"
   ]
  },
  {
   "cell_type": "code",
   "execution_count": 83,
   "metadata": {},
   "outputs": [],
   "source": [
    "# flat\n",
    "lin_func = {'piece' : [{'start' : 18,\n",
    "                        'function' : {'type' : 'linear', 'params' : '0 100000'}\n",
    "                       }\n",
    "                      ]\n",
    "           }\n",
    "growth_region = {'GrowthRegion' : {'growth' : {'item' : [{'commod' : 'PowerLWR',\n",
    "                                                          'piecewise_function' : lin_func\n",
    "                                                         }\n",
    "                                                        ]\n",
    "                                              }\n",
    "                                  }\n",
    "                }"
   ]
  },
  {
   "cell_type": "markdown",
   "metadata": {},
   "source": [
    "# Recipes\n",
    "-  Here: \n",
    "  1. Depleted U\n",
    "  2. Natural U\n",
    "-  100 ppt Init U232 Additive Recipes (in recipe_100ppt.py):\n",
    "  1. NonAdditive U Isotopes (U234)\n",
    "  2. Additive U Isotopes (U232, U233, U234)\n",
    "  3. Almost UOX NonAdditive Enr Ratio\n",
    "  4. Almost UOX Additive Enr Ratio\n",
    "  5. UOX without Additive\n",
    "  6. UOX with Additive\n",
    "  7. Spent UOX from #5\n",
    "  8. Spent UOX from #6"
   ]
  },
  {
   "cell_type": "code",
   "execution_count": 84,
   "metadata": {},
   "outputs": [],
   "source": [
    "dep_u = {'name' : 'DU',\n",
    "         'basis' : 'mass',\n",
    "         'nuclide' : [{'id' : 'U235', 'comp' : 0.0025}, \n",
    "                      {'id' : 'U238', 'comp' : 0.9975}]\n",
    "        }\n",
    "nat_u = {'name' : 'NU',\n",
    "         'basis' : 'mass',\n",
    "         'nuclide' : [{'id' : 'U235', 'comp' : 0.007110}, \n",
    "                      {'id' : 'U238', 'comp' : 0.992890}]\n",
    "        }"
   ]
  },
  {
   "cell_type": "code",
   "execution_count": 85,
   "metadata": {},
   "outputs": [],
   "source": [
    "# Recipes from 100 ppt U232 additive @ beginning of enrichment\n",
    "from recipe_100ppt import (isos_no232, isos_232, enr_no232, enr_232, \n",
    "                           uox_no232, uox_10pct232, uox_50pct232, uox_232, \n",
    "                           spent_no232, spent_10pct232, spent_50pct232, \n",
    "                           spent_232, ff_no232, ff_232, spentff_no232, \n",
    "                           spentff_232\n",
    "                          )"
   ]
  },
  {
   "cell_type": "markdown",
   "metadata": {},
   "source": [
    "# Main Input File "
   ]
  },
  {
   "cell_type": "code",
   "execution_count": 86,
   "metadata": {},
   "outputs": [],
   "source": [
    "control = {'duration' : sim_duration, \n",
    "           'startmonth' : 1, \n",
    "           'startyear' : 2022,\n",
    "           #'dt' : 86400, \n",
    "           #'explicit_inventory' : True\n",
    "          }"
   ]
  },
  {
   "cell_type": "code",
   "execution_count": 87,
   "metadata": {},
   "outputs": [],
   "source": [
    "def run_sim(filebase, sim):\n",
    "    in_file = filebase + '.py'\n",
    "    sim_file = '../output/' + filebase + '.sqlite'\n",
    "\n",
    "    with open(in_file, 'w') as file: \n",
    "        file.write('SIMULATION = ' + str(sim))\n",
    "    subprocess.run(['rm', sim_file])\n",
    "    subprocess.run(['cyclus', in_file, '-o', sim_file])    \n",
    "    return"
   ]
  },
  {
   "cell_type": "markdown",
   "metadata": {},
   "source": [
    "## EG01"
   ]
  },
  {
   "cell_type": "code",
   "execution_count": 16,
   "metadata": {},
   "outputs": [],
   "source": [
    "archetypes = {'spec' : [{'lib' : 'cycamore', 'name' : 'Source'},\n",
    "                        {'lib' : 'cycamore', 'name' : 'Enrichment'},\n",
    "                        {'lib' : 'cycamore', 'name' : 'Mixer'},\n",
    "                        {'lib' : 'cycamore', 'name' : 'Reactor'},\n",
    "                        {'lib' : 'cycamore', 'name' : 'Storage'},\n",
    "                        {'lib' : 'cycamore', 'name' : 'Sink'},\n",
    "                        {'lib' : 'cycamore', 'name' : 'DeployInst'},\n",
    "                        {'lib' : 'cycamore', 'name' : 'ManagerInst'},\n",
    "                        {'lib' : 'cycamore', 'name' : 'GrowthRegion'},\n",
    "                       ]\n",
    "             }"
   ]
  },
  {
   "cell_type": "code",
   "execution_count": 17,
   "metadata": {},
   "outputs": [],
   "source": [
    "# full additive availability at intro -- skip down for ramp-up sim\n",
    "full_region = {'name' : 'GrowthRegion', \n",
    "               'config' : growth_region, \n",
    "               'institution' : [init_fleet, eg1_fc_inst]\n",
    "              }\n",
    "full_sim = {'simulation' : {'control' : control,\n",
    "                            'archetypes' : archetypes,\n",
    "                            'region' : full_region,\n",
    "                            'facility' : [init_uox_source, natu_source, non_source, add_source, enrich,\n",
    "                                          du_store, store_no232, mix_no232, store_232, mix_232, \n",
    "                                          lwr_full, lwr_cool, lwr_store, sink\n",
    "                                         ],\n",
    "                            'recipe' : [dep_u, nat_u, isos_no232, isos_232, enr_no232, enr_232, \n",
    "                                        uox_no232, uox_232, spent_no232, spent_232\n",
    "                                       ]\n",
    "                           }\n",
    "           }"
   ]
  },
  {
   "cell_type": "code",
   "execution_count": 18,
   "metadata": {},
   "outputs": [],
   "source": [
    "#run_sim('01_full-add_flat-pwr', full_sim)\n",
    "#run_sim('01_full-add_grow-pwr', full_sim)"
   ]
  },
  {
   "cell_type": "markdown",
   "metadata": {},
   "source": [
    "# EG01 --> 23\n",
    "## Prototype Definitions"
   ]
  },
  {
   "cell_type": "code",
   "execution_count": 19,
   "metadata": {},
   "outputs": [],
   "source": [
    "# remember that mixer facilities have fake ratios as of 3/9/22\n",
    "# only making fast fuel without additive, because the additive doesn't make sense for MOX\n",
    "# (prototypes exist to have a split, but creating both streams does not work as expected)\n",
    "from eg23_facilities import (eg23_sink, non_lwr_cool, add_lwr_cool, lwr_sep, \n",
    "                             sfr_mix_no232, non_sfr_cool, sfr_sep)"
   ]
  },
  {
   "cell_type": "code",
   "execution_count": 20,
   "metadata": {},
   "outputs": [],
   "source": [
    "sfr = {'name' : 'SFR', \n",
    "       'lifetime' : rxtr_life,\n",
    "       'config' : {'Reactor' : {'fuel_incommods' :  {'val' : ['FF_Non']},\n",
    "                                'fuel_outcommods' : {'val' : ['SpentFF_Non']},\n",
    "                                'fuel_inrecipes' :  {'val' : ['FF_no232']},\n",
    "                                'fuel_outrecipes' : {'val' : ['SpentFF_no232']},\n",
    "                                'fuel_prefs' : {'val' : [1]},\n",
    "                                'cycle_time' : 14,\n",
    "                                'refuel_time' : 0,\n",
    "                                'assem_size' : 7490,\n",
    "                                'n_assem_core' : 5,\n",
    "                                'n_assem_batch' : 1,\n",
    "                                'power_name' : 'PowerSFR',\n",
    "                                'power_cap' : 400\n",
    "                               }\n",
    "                  }\n",
    "      }"
   ]
  },
  {
   "cell_type": "markdown",
   "metadata": {},
   "source": [
    "## Regions and Institutions"
   ]
  },
  {
   "cell_type": "code",
   "execution_count": 88,
   "metadata": {},
   "outputs": [],
   "source": [
    "eg1_23_fc_prototypes = ['SourceNatU', 'SourceNonIsos', 'SourceAddIsos', 'Enrichment', 'StorageDepU', \n",
    "                        'UOXStrNon', 'UOXMixNon', 'UOXStrAdd', 'UOXMixAdd', 'LWR', \n",
    "                        'UOXCoolNon', 'UOXCoolAdd', 'Waste', 'SFR'\n",
    "                       ]\n",
    "\n",
    "eg1_23_fc_inst = {'name' : 'FCInstEG01-23', \n",
    "                  'initialfacilitylist' : {'entry' : [{'number' : 1, 'prototype' : 'SourceInitUOX'},\n",
    "                                                      {'number' : 1, 'prototype' : 'SourceNatU'},\n",
    "                                                      {'number' : 1, 'prototype' : 'SourceNonIsos'},\n",
    "                                                      {'number' : 1, 'prototype' : 'SourceAddIsos'},\n",
    "                                                      {'number' : 1, 'prototype' : 'Enrichment'},\n",
    "                                                      {'number' : 1, 'prototype' : 'StorageDepU'},\n",
    "                                                      {'number' : 1, 'prototype' : 'UOXStrNon'},\n",
    "                                                      {'number' : 1, 'prototype' : 'UOXMixNon'},\n",
    "                                                      {'number' : 1, 'prototype' : 'UOXStrAdd'},\n",
    "                                                      {'number' : 1, 'prototype' : 'UOXMixAdd'},\n",
    "                                                      {'number' : 1, 'prototype' : 'UOXCoolNon'},\n",
    "                                                      {'number' : 1, 'prototype' : 'UOXCoolAdd'},\n",
    "                                                      {'number' : 1, 'prototype' : 'Waste'}]\n",
    "                                          },\n",
    "                  'config' : {'ManagerInst' : {'prototypes' : {'val' : eg1_23_fc_prototypes}\n",
    "                                              }\n",
    "                             }\n",
    "                 }\n",
    "\n",
    "eg23_fc_prototypes = ['UOXSep', 'FFMixNon', 'FFCoolNon', 'FFSep']\n",
    "eg23_nbuilds = [1 for x in range(0, len(eg23_fc_prototypes))]\n",
    "eg23_buildtimes = [trans_time for x in range(0, len(eg23_fc_prototypes))]\n",
    "eg23_deploy = {'name' : 'EG23Deploy', \n",
    "               'config' : {'DeployInst' : {'prototypes' :  {'val' : eg23_fc_prototypes},\n",
    "                                           'n_build' :     {'val' : eg23_nbuilds},\n",
    "                                           'build_times' : {'val' : eg23_buildtimes}\n",
    "                                          }\n",
    "                          }\n",
    "              }"
   ]
  },
  {
   "cell_type": "code",
   "execution_count": 94,
   "metadata": {},
   "outputs": [
    {
     "name": "stdout",
     "output_type": "stream",
     "text": [
      "24.916666666666668\n",
      "55.0\n",
      "41.5\n",
      "15.0\n"
     ]
    }
   ],
   "source": [
    "from math import log\n",
    "from math import exp\n",
    "\n",
    "# exponential power demand\n",
    "## THIS IS NOT FUNCTIONAL, see 3/17 slides ##\n",
    "year_grow_rate = 0.01\n",
    "month_grow_rate = year_grow_rate / 12\n",
    "a_0 = 100000\n",
    "exp_str_0 = str(a_0) + ' ' + str(month_grow_rate) + ' 0'\n",
    "exp_func_0 = {'type' : 'exponential', 'params' : exp_str_0}\n",
    "\n",
    "# exponential transition too:\n",
    "# in theory the deployment of SFR doesn't need to be exponential but since\n",
    "# the power commod is linked to this, this is how it will be for now. \n",
    "# maybe manual deployments do make the most sense to avoid this constraint\n",
    "#\n",
    "# todo: automate getting a_trans from previously calculated power curve\n",
    "# ...will be especially beneficial for ramp-up approach\n",
    "pwr_trans = 114000\n",
    "t_1a = trans_time\n",
    "\n",
    "\n",
    "\n",
    "a_trans = pwr_trans / np.exp(-month_grow_rate * t_1a)\n",
    "coeff_decay = log(1-year_grow_rate)/12.\n",
    "\n",
    "\n",
    "exp_str_1 = str(a_trans) + ' ' + str(coeff_decay) + ' 0'\n",
    "exp_func_1 = {'type' : 'exponential', 'params' : exp_str_1}\n",
    "\n",
    "t1b = rxtr_life-old_lives[0]\n",
    "print(t1b/12.)\n",
    "a_trans_1b = a_trans * np.exp(-month_grow_rate * (t1b))\n",
    "exp_str_1b = str(a_trans) + ' -' + str(20*month_grow_rate) + ' 0'\n",
    "exp_func_1b = {'type' : 'exponential', 'params' : exp_str_1b}\n",
    "\n",
    "t1c = trans_time+rxtr_life\n",
    "a_trans_1c = a_trans_1b * np.exp(-10*month_grow_rate * (t1c))\n",
    "exp_str_1c = str(a_trans) + ' -' + str(1*month_grow_rate) + ' 0'\n",
    "exp_func_1c = {'type' : 'exponential', 'params' : exp_str_1c}\n",
    "\n",
    "\n",
    "coeff_decay = log(1-2*year_grow_rate)/12.\n",
    "\n",
    "exp_str_2 = str(a_0) + ' ' + str(-coeff_decay) + ' -' + str(a_0)\n",
    "exp_func_2 = {'type' : 'exponential', 'params' : exp_str_2}\n",
    "\n",
    "print(t1c/12.)\n",
    "print((18+rxtr_life)/12.)\n",
    "print((trans_time)/12.)\n",
    "lin_func_0 = {'type' : 'linear', 'params' : '0 100000'}\n",
    "exp_func_lwr = {'piece' : [\n",
    "                           {'start' : 18,\n",
    "                            'function' : lin_func_0\n",
    "                           },\n",
    "                           {'start' : trans_time,\n",
    "                            'function' : exp_func_1\n",
    "#                            },\n",
    "#                            {'start' : t1b,\n",
    "#                             'function' : exp_func_1b\n",
    "#                            },\n",
    "#                            {'start' : t1c,\n",
    "#                             'function' : exp_func_1c\n",
    "                            }\n",
    "                          ]\n",
    "               }\n",
    "exp_func_sfr = {'piece' : [{'start' : trans_time,\n",
    "                            'function' : exp_func_2\n",
    "                           }\n",
    "                          ]\n",
    "               }\n",
    "growth_region = {'GrowthRegion' : {'growth' : {'item' : [{'commod' : 'PowerLWR',\n",
    "                                                          'piecewise_function' : exp_func_lwr\n",
    "                                                         },\n",
    "                                                         {'commod' : 'PowerSFR',\n",
    "                                                          'piecewise_function' : exp_func_sfr\n",
    "                                                         }\n",
    "                                                        ]\n",
    "                                              }\n",
    "                                  }\n",
    "                }"
   ]
  },
  {
   "cell_type": "code",
   "execution_count": 95,
   "metadata": {},
   "outputs": [
    {
     "name": "stdout",
     "output_type": "stream",
     "text": [
      "100000 0.001683558943126622 -100000\n"
     ]
    }
   ],
   "source": [
    "print(exp_str_2)"
   ]
  },
  {
   "cell_type": "code",
   "execution_count": 96,
   "metadata": {},
   "outputs": [],
   "source": [
    "# linear power demand\n",
    "# m = 20\n",
    "# lin_func_0 = {'type' : 'linear', 'params' : '0 100000'}\n",
    "# lin_func_1 = {'type' : 'linear', 'params' : '-' + str(m) + ' 0'}\n",
    "# lin_func_2 = {'type' : 'linear', 'params' : str(m) + ' 0'}\n",
    "# lin_func_lwr = {'piece' : [{'start' : 18,\n",
    "#                             'function' : lin_func_0\n",
    "#                            },\n",
    "#                            {'start' : trans_time,\n",
    "#                             'function' : lin_func_1\n",
    "#                            }\n",
    "#                           ]\n",
    "#                }\n",
    "# lin_func_sfr = {'piece' : [{'start' : trans_time,\n",
    "#                             'function' : lin_func_2\n",
    "#                            }\n",
    "#                           ]\n",
    "#                }\n",
    "# growth_region = {'GrowthRegion' : {'growth' : {'item' : [{'commod' : 'PowerLWR',\n",
    "#                                                           'piecewise_function' : lin_func_lwr\n",
    "#                                                          },\n",
    "#                                                          {'commod' : 'PowerSFR',\n",
    "#                                                           'piecewise_function' : lin_func_sfr\n",
    "#                                                          }\n",
    "#                                                         ]\n",
    "#                                               }\n",
    "#                                   }\n",
    "#                 }"
   ]
  },
  {
   "cell_type": "code",
   "execution_count": 97,
   "metadata": {},
   "outputs": [],
   "source": [
    "archetypes = {'spec' : [{'lib' : 'cycamore', 'name' : 'Source'},\n",
    "                        {'lib' : 'cycamore', 'name' : 'Enrichment'},\n",
    "                        {'lib' : 'cycamore', 'name' : 'Mixer'},\n",
    "                        {'lib' : 'cycamore', 'name' : 'Reactor'},\n",
    "                        {'lib' : 'cycamore', 'name' : 'Storage'},\n",
    "                        {'lib' : 'cycamore', 'name' : 'Separations'},\n",
    "                        {'lib' : 'cycamore', 'name' : 'Sink'},\n",
    "                        {'lib' : 'cycamore', 'name' : 'DeployInst'},\n",
    "                        {'lib' : 'cycamore', 'name' : 'ManagerInst'},\n",
    "                        {'lib' : 'cycamore', 'name' : 'GrowthRegion'},\n",
    "                      ]\n",
    "             }\n",
    "\n",
    "\n",
    "# full additive availability at intro\n",
    "full_region = {'name' : 'GrowthRegion', \n",
    "               'config' : growth_region, \n",
    "               'institution' : [init_fleet, eg1_23_fc_inst, eg23_deploy]\n",
    "              }\n",
    "full_sim = {'simulation' : {'control' : control,\n",
    "                            'archetypes' : archetypes,\n",
    "                            'region' : full_region,\n",
    "                            'facility' : [init_uox_source, natu_source, non_source, add_source, enrich,\n",
    "                                          du_store, store_no232, mix_no232, store_232, mix_232, lwr_full, \n",
    "                                          non_lwr_cool, add_lwr_cool, lwr_sep, sfr_mix_no232, sfr,\n",
    "                                          sfr_sep, non_sfr_cool, eg23_sink\n",
    "                                         ],\n",
    "                            'recipe' : [dep_u, nat_u, isos_no232, isos_232, enr_no232, enr_232, \n",
    "                                        uox_no232, uox_232, spent_no232, spent_232, ff_no232, \n",
    "                                        spentff_no232 \n",
    "                                       ]\n",
    "                           }\n",
    "           }"
   ]
  },
  {
   "cell_type": "code",
   "execution_count": 98,
   "metadata": {},
   "outputs": [],
   "source": [
    "#run_sim('23_full-add_flat-pwr', full_sim)\n",
    "run_sim('23_full-add_grow-pwr', full_sim)"
   ]
  },
  {
   "cell_type": "markdown",
   "metadata": {},
   "source": [
    "## Ramp-up Approach EG01 Only (so far)\n",
    "\n",
    "10% additive fuel in refuel for 3 cycles, 50% for the next 3, and 100% after that."
   ]
  },
  {
   "cell_type": "code",
   "execution_count": 45,
   "metadata": {},
   "outputs": [],
   "source": [
    "from eg01_facilities import (store_pct_no232, store_pct_232, \n",
    "                             mix_50pct232, mix_10pct232)\n",
    "\n",
    "# LWR prototype for partial additive availability/slow utility uptake upon introduction\n",
    "intro_50 = intro_time + 3 * cycle_time\n",
    "intro_100 = intro_50 + 3 * cycle_time\n",
    "lwr_ramp = {'name' : 'LWR',\n",
    "            'lifetime' : rxtr_life,\n",
    "            'config' : {'Reactor' : {'fuel_incommods' :  {'val' : ['UOX_Add', 'UOX_50pctAdd', 'UOX_10pctAdd', 'UOX_Non', 'InitUOX']},\n",
    "                                     'fuel_outcommods' : {'val' : ['SpentUOX_Add', 'SpentUOX_50pctAdd', 'SpentUOX_10pctAdd', 'SpentUOX_Non', 'SpentUOX_Non']},\n",
    "                                     'fuel_inrecipes' :  {'val' : ['UOX_232', 'UOX_50pct232', 'UOX_10pct232', 'UOX_no232', 'UOX_no232']},\n",
    "                                     'fuel_outrecipes' : {'val' : ['SpentUOX_232', 'SpentUOX_50pct232', 'SpentUOX_10pct232', 'SpentUOX_no232', 'SpentUOX_no232']},\n",
    "                                     'fuel_prefs' : {'val' : [1, 1, 1, 2, 2.5]},\n",
    "                                     'pref_change_times' : {'val' : [intro_time, intro_50, intro_100]},\n",
    "                                     'pref_change_commods' : {'val' : ['UOX_10pctAdd', 'UOX_50pctAdd', 'UOX_Add']},\n",
    "                                     'pref_change_values' : {'val' : [3, 4, 5]},\n",
    "                                     'cycle_time' : cycle_time,\n",
    "                                     'refuel_time' : 0,\n",
    "                                     'assem_size' : assem_size,\n",
    "                                     'n_assem_core' : n_assem_core,\n",
    "                                     'n_assem_batch' : 1,\n",
    "                                     'power_cap' : 1000\n",
    "                                    }\n",
    "                       }\n",
    "           }"
   ]
  },
  {
   "cell_type": "code",
   "execution_count": 46,
   "metadata": {},
   "outputs": [],
   "source": [
    "eg1_ramp_prototypes = ['StorageRampNon', 'StorageRampAdd', \n",
    "                       'Mixer50pctAdd', 'Mixer10pctAdd'\n",
    "                      ]\n",
    "\n",
    "t = intro_time\n",
    "\n",
    "eg1_ramp_inst = {'name' : 'RampInstEG01', \n",
    "                 'config' : {'DeployInst' : {'prototypes' :  {'val' : eg1_ramp_prototypes},\n",
    "                                             'n_build' :     {'val' : [1, 1, 1, 1]},\n",
    "                                             'build_times' : {'val' : [t, t, t, t]}\n",
    "                                            }\n",
    "                            }\n",
    "                }"
   ]
  },
  {
   "cell_type": "code",
   "execution_count": 47,
   "metadata": {},
   "outputs": [],
   "source": [
    "# ramp up additive availability at intro\n",
    "ramp_region = {'name' : 'GrowthRegion', \n",
    "               'config' : growth_region, \n",
    "               'institution' : [init_fleet, eg1_fc_inst, eg1_ramp_inst]\n",
    "              }\n",
    "ramp_sim = {'simulation' : {'control' : control,\n",
    "                            'archetypes' : archetypes,\n",
    "                            'region' : ramp_region,\n",
    "                            'facility' : [init_uox_source, natu_source, non_source, add_source, enrich,\n",
    "                                          du_store, store_no232, mix_no232, store_232, mix_232, \n",
    "                                          store_pct_no232, store_pct_232, mix_50pct232, mix_10pct232, \n",
    "                                          lwr_ramp, lwr_cool, lwr_store, sink\n",
    "                                         ],\n",
    "                            'recipe' : [dep_u, nat_u, isos_no232, isos_232, enr_no232, enr_232, \n",
    "                                        uox_no232, uox_10pct232, uox_50pct232, uox_232,\n",
    "                                        spent_no232, spent_10pct232, spent_50pct232, spent_232\n",
    "                                       ]\n",
    "                           }\n",
    "           }"
   ]
  },
  {
   "cell_type": "code",
   "execution_count": 48,
   "metadata": {},
   "outputs": [],
   "source": [
    "run_sim('01_ramp-add_flat-pwr', ramp_sim)\n",
    "#run_sim('01_ramp-add_grow-pwr', ramp_sim)"
   ]
  },
  {
   "cell_type": "markdown",
   "metadata": {},
   "source": [
    "# Set of Simulations \n",
    "\n",
    "List of Simulation Scenarios (24):\n",
    "\n",
    "If this is done with flat power plus 1% growth in power, doubles to 48 simulations\n",
    "\n",
    "- EG Scenarios\n",
    "  1. 01\n",
    "  2. 01-23\n",
    "  3. 01-29\n",
    "- Init Additive Concentration\n",
    "  1. 100ppt\n",
    "  2. ???pp?\n",
    "- Date\n",
    "  1. long before transition\n",
    "  2. closer to transition\n",
    "- Rate\n",
    "  1. full availability\n",
    "  2. ramp up availability"
   ]
  },
  {
   "cell_type": "code",
   "execution_count": 30,
   "metadata": {},
   "outputs": [
    {
     "name": "stdout",
     "output_type": "stream",
     "text": [
      "01_100ppt_05yr_full\n",
      "01_100ppt_05yr_ramp\n",
      "01_100ppt_15yr_full\n",
      "01_100ppt_15yr_ramp\n",
      "01_100ppb_05yr_full\n",
      "01_100ppb_05yr_ramp\n",
      "01_100ppb_15yr_full\n",
      "01_100ppb_15yr_ramp\n",
      "23_100ppt_05yr_full\n",
      "23_100ppt_05yr_ramp\n",
      "23_100ppt_15yr_full\n",
      "23_100ppt_15yr_ramp\n",
      "23_100ppb_05yr_full\n",
      "23_100ppb_05yr_ramp\n",
      "23_100ppb_15yr_full\n",
      "23_100ppb_15yr_ramp\n",
      "29_100ppt_05yr_full\n",
      "29_100ppt_05yr_ramp\n",
      "29_100ppt_15yr_full\n",
      "29_100ppt_15yr_ramp\n",
      "29_100ppb_05yr_full\n",
      "29_100ppb_05yr_ramp\n",
      "29_100ppb_15yr_full\n",
      "29_100ppb_15yr_ramp\n"
     ]
    }
   ],
   "source": [
    "# File Names:\n",
    "for eg in ['01', '23', '29']:\n",
    "    for ppx in ['100ppt', '100ppb']:\n",
    "        for date in ['05yr', '15yr']:\n",
    "            for rate in ['full', 'ramp']:\n",
    "                file = eg + '_' + ppx + '_' + date + '_' + rate\n",
    "                print(file)"
   ]
  },
  {
   "cell_type": "code",
   "execution_count": null,
   "metadata": {},
   "outputs": [],
   "source": []
  },
  {
   "cell_type": "code",
   "execution_count": null,
   "metadata": {},
   "outputs": [],
   "source": []
  },
  {
   "cell_type": "code",
   "execution_count": null,
   "metadata": {},
   "outputs": [],
   "source": []
  },
  {
   "cell_type": "code",
   "execution_count": null,
   "metadata": {},
   "outputs": [],
   "source": []
  },
  {
   "cell_type": "code",
   "execution_count": null,
   "metadata": {},
   "outputs": [],
   "source": []
  },
  {
   "cell_type": "code",
   "execution_count": null,
   "metadata": {},
   "outputs": [],
   "source": []
  },
  {
   "cell_type": "code",
   "execution_count": null,
   "metadata": {},
   "outputs": [],
   "source": []
  }
 ],
 "metadata": {
  "kernelspec": {
   "display_name": "Python 3",
   "language": "python",
   "name": "python3"
  },
  "language_info": {
   "codemirror_mode": {
    "name": "ipython",
    "version": 3
   },
   "file_extension": ".py",
   "mimetype": "text/x-python",
   "name": "python",
   "nbconvert_exporter": "python",
   "pygments_lexer": "ipython3",
   "version": "3.6.9"
  }
 },
 "nbformat": 4,
 "nbformat_minor": 4
}
