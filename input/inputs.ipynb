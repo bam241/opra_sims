{
 "cells": [
  {
   "cell_type": "code",
   "execution_count": 1,
   "metadata": {},
   "outputs": [],
   "source": [
    "import subprocess\n",
    "import numpy as np"
   ]
  },
  {
   "cell_type": "code",
   "execution_count": 2,
   "metadata": {},
   "outputs": [],
   "source": [
    "# Variable params\n",
    "intro_time = 12 * 5 # intro time for additive\n",
    "sim_duration = 12 * 100 # might need longer for transitions\n",
    "trans_time = 12 * 15 # transition time for EG01 --> EGXX\n",
    "# Transition time is assumed to always be greater than intro time\n",
    "\n",
    "# \"Non-Variable\" Params\n",
    "n_init_rxtrs = 100\n",
    "n_assem_core = 3\n",
    "assem_size = 29565\n",
    "init_total_assem_size = n_init_rxtrs * n_assem_core * assem_size\n",
    "cycle_time = 18\n",
    "rxtr_life = 12 * 60 "
   ]
  },
  {
   "cell_type": "markdown",
   "metadata": {},
   "source": [
    "# EG01 \n",
    "\n",
    "## Protoype Definitions"
   ]
  },
  {
   "cell_type": "code",
   "execution_count": 3,
   "metadata": {},
   "outputs": [],
   "source": [
    "init_uox_source = {'name' : 'SourceInitUOX', \n",
    "                   'config' : {'Source' : {'outcommod' : 'InitUOX',\n",
    "                                           'outrecipe' : 'UOX_no232',\n",
    "                                           'inventory_size' : init_total_assem_size\n",
    "                                          }\n",
    "                              }\n",
    "                  }"
   ]
  },
  {
   "cell_type": "code",
   "execution_count": 4,
   "metadata": {},
   "outputs": [],
   "source": [
    "from eg01_facilities import (natu_source, non_source, add_source, enrich, \n",
    "                             du_store, store_no232, mix_no232, store_232, \n",
    "                             mix_232, lwr_cool, lwr_store, sink)"
   ]
  },
  {
   "cell_type": "code",
   "execution_count": 5,
   "metadata": {},
   "outputs": [],
   "source": [
    "# play around with contraining additive source throughput\n",
    "#add_source['config']['Source']['throughput'] = 1e5"
   ]
  },
  {
   "cell_type": "code",
   "execution_count": 6,
   "metadata": {},
   "outputs": [],
   "source": [
    "# LWR prototype for full additive availability upon introduction\n",
    "lwr_full = {'name' : 'LWR',\n",
    "            'lifetime' : rxtr_life,\n",
    "            'config' : {'Reactor' : {'fuel_incommods' :  {'val' : ['UOX_Add', 'UOX_Non', 'InitUOX']},\n",
    "                                     'fuel_outcommods' : {'val' : ['SpentUOX_Add', 'SpentUOX_Non', 'SpentUOX_Non']},\n",
    "                                     'fuel_inrecipes' :  {'val' : ['UOX_232', 'UOX_no232', 'UOX_no232']},\n",
    "                                     'fuel_outrecipes' : {'val' : ['SpentUOX_232', 'SpentUOX_no232', 'SpentUOX_no232']},\n",
    "                                     'fuel_prefs' : {'val' : [1, 2, 2.5]},\n",
    "                                     'pref_change_times' : {'val' : intro_time},\n",
    "                                     'pref_change_commods' : {'val' : 'UOX_Add'},\n",
    "                                     'pref_change_values' : {'val' : 3},\n",
    "                                     'cycle_time' : cycle_time,\n",
    "                                     'refuel_time' : 0,\n",
    "                                     'assem_size' : assem_size,\n",
    "                                     'n_assem_core' : n_assem_core,\n",
    "                                     'n_assem_batch' : 1,\n",
    "                                     'power_name' : 'PowerLWR',\n",
    "                                     'power_cap' : 1000\n",
    "                                    }\n",
    "                       }\n",
    "           }"
   ]
  },
  {
   "cell_type": "markdown",
   "metadata": {},
   "source": [
    "## Regions and Institutions\n",
    "\n",
    "### 1. Init LWR Fleet (Deploy Inst)"
   ]
  },
  {
   "cell_type": "code",
   "execution_count": 7,
   "metadata": {},
   "outputs": [],
   "source": [
    "init_lwr_prototypes = ['LWR' for x in range(0, n_init_rxtrs)]\n",
    "n_builds = [1 for x in range(0, n_init_rxtrs)]\n",
    "# staggering build times over first 18 timesteps so that reactors \n",
    "# don't all cycle together\n",
    "build_times = [x + 1 for x in range(0, 17) for y in range(0,6)]\n",
    "del build_times[-3:-1]\n",
    "# Lifetimes borrowed from previous EG scenario work presuming a \n",
    "# start year of 2000 and first decommission in 2015. Updated to \n",
    "# better stagger decommissioning.\n",
    "old_lives = [181, 186, 191, 196, \n",
    "             201, 206, 211, 216, 221, 226, 231, 236, 241, 246, 251, 256, 261, 266, 271, 276, 281, 286, 291, 296,\n",
    "             301, 306, 311, 316, 321, 326, 331, 336, 341, 346, 351, 356, 361, 366, 371, 376, 381, 386, 391, 396,\n",
    "             401, 406, 411, 416, 421, 426, 431, 436, 441, 446, 451, 456, 461, 466, 471, 476, 481, 486, 491, 496,\n",
    "             501, 506, 511, 516, 521, 526, 531, 536, 541, 546, 551, 556, 561, 566, 571, 576, 581, 586, 591, 596,\n",
    "             601, 606, 611, 616, 621, 626, 631, 636, 641, 646, 651, 656, 661, 666, 671, 676\n",
    "            ]\n",
    "# Overwrite lifetimes to have decommission start 1.5 year in, \n",
    "# expecting a sim start of 2022\n",
    "lifetimes = [x - 163 for x in old_lives]\n",
    "\n",
    "assert len(init_lwr_prototypes) == n_init_rxtrs\n",
    "assert len(n_builds) == n_init_rxtrs\n",
    "assert len(build_times) == n_init_rxtrs\n",
    "assert len(lifetimes) == n_init_rxtrs"
   ]
  },
  {
   "cell_type": "code",
   "execution_count": 8,
   "metadata": {},
   "outputs": [],
   "source": [
    "init_fleet = {'name' : 'InitFleet', \n",
    "              'config' : {'DeployInst' : {'prototypes' :  {'val' : init_lwr_prototypes},\n",
    "                                          'n_build' :     {'val' : n_builds},\n",
    "                                          'build_times' : {'val' : build_times},\n",
    "                                          'lifetimes' :   {'val' : lifetimes}\n",
    "                                         }\n",
    "                         }\n",
    "             }"
   ]
  },
  {
   "cell_type": "markdown",
   "metadata": {},
   "source": [
    "### 2. EG01 FC Facilities: Manager Inst"
   ]
  },
  {
   "cell_type": "code",
   "execution_count": 9,
   "metadata": {},
   "outputs": [],
   "source": [
    "eg1_fc_prototypes = ['SourceNatU', 'SourceNonIsos', 'SourceAddIsos', 'Enrichment', 'StorageDepU', \n",
    "                     'UOXStrNon', 'UOXMixNon', 'UOXStrAdd', 'UOXMixAdd', 'LWR', \n",
    "                     'UOXCool', 'UOXStr', 'Waste'\n",
    "                    ]\n",
    "\n",
    "eg1_fc_inst = {'name' : 'FCInstEG01', \n",
    "               'initialfacilitylist' : {'entry' : [{'number' : 1, 'prototype' : 'SourceInitUOX'},\n",
    "                                                   {'number' : 1, 'prototype' : 'SourceNatU'},\n",
    "                                                   {'number' : 1, 'prototype' : 'SourceNonIsos'},\n",
    "                                                   {'number' : 1, 'prototype' : 'SourceAddIsos'},\n",
    "                                                   {'number' : 1, 'prototype' : 'Enrichment'},\n",
    "                                                   {'number' : 1, 'prototype' : 'StorageDepU'},\n",
    "                                                   {'number' : 1, 'prototype' : 'UOXStrNon'},\n",
    "                                                   {'number' : 1, 'prototype' : 'UOXMixNon'},\n",
    "                                                   {'number' : 1, 'prototype' : 'UOXStrAdd'},\n",
    "                                                   {'number' : 1, 'prototype' : 'UOXMixAdd'},\n",
    "                                                   {'number' : 1, 'prototype' : 'UOXCool'},\n",
    "                                                   {'number' : 1, 'prototype' : 'UOXStr'},\n",
    "                                                   {'number' : 1, 'prototype' : 'Waste'}]\n",
    "                                       },\n",
    "               'config' : {'ManagerInst' : {'prototypes' : {'val' : eg1_fc_prototypes}}}\n",
    "              }"
   ]
  },
  {
   "cell_type": "markdown",
   "metadata": {},
   "source": [
    "### 3. Growth Regions: Pick Flat or 1% Growth"
   ]
  },
  {
   "cell_type": "code",
   "execution_count": 23,
   "metadata": {},
   "outputs": [],
   "source": [
    "exp_func = {'piece' : [{'start' : 18,\n",
    "                        'function' : {'type' : 'exponential', 'params' : '100000 0.01 0'}\n",
    "                       }\n",
    "                      ]\n",
    "           }\n",
    "growth_region = {'GrowthRegion' : {'growth' : {'item' : [{'commod' : 'PowerLWR',\n",
    "                                                          'piecewise_function' : exp_func\n",
    "                                                         }\n",
    "                                                        ]\n",
    "                                              }\n",
    "                                  }\n",
    "                }"
   ]
  },
  {
   "cell_type": "code",
   "execution_count": 10,
   "metadata": {},
   "outputs": [],
   "source": [
    "lin_func = {'piece' : [{'start' : 18,\n",
    "                        'function' : {'type' : 'linear', 'params' : '0 100000'}\n",
    "                       }\n",
    "                      ]\n",
    "           }\n",
    "growth_region = {'GrowthRegion' : {'growth' : {'item' : [{'commod' : 'PowerLWR',\n",
    "                                                          'piecewise_function' : lin_func\n",
    "                                                         }\n",
    "                                                        ]\n",
    "                                              }\n",
    "                                  }\n",
    "                }"
   ]
  },
  {
   "cell_type": "markdown",
   "metadata": {},
   "source": [
    "# Recipes\n",
    "-  Here: \n",
    "  1. Depleted U\n",
    "  2. Natural U\n",
    "-  100 ppt Init U232 Additive Recipes (in recipe_100ppt.py):\n",
    "  1. NonAdditive U Isotopes (U234)\n",
    "  2. Additive U Isotopes (U232, U233, U234)\n",
    "  3. Almost UOX NonAdditive Enr Ratio\n",
    "  4. Almost UOX Additive Enr Ratio\n",
    "  5. UOX without Additive\n",
    "  6. UOX with Additive\n",
    "  7. Spent UOX from #5\n",
    "  8. Spent UOX from #6"
   ]
  },
  {
   "cell_type": "code",
   "execution_count": 11,
   "metadata": {},
   "outputs": [],
   "source": [
    "dep_u = {'name' : 'DU',\n",
    "         'basis' : 'mass',\n",
    "         'nuclide' : [{'id' : 'U235', 'comp' : 0.0025}, \n",
    "                      {'id' : 'U238', 'comp' : 0.9975}]\n",
    "        }\n",
    "nat_u = {'name' : 'NU',\n",
    "         'basis' : 'mass',\n",
    "         'nuclide' : [{'id' : 'U235', 'comp' : 0.007110}, \n",
    "                      {'id' : 'U238', 'comp' : 0.992890}]\n",
    "        }"
   ]
  },
  {
   "cell_type": "code",
   "execution_count": 12,
   "metadata": {},
   "outputs": [],
   "source": [
    "# Recipes from 100 ppt U232 additive @ beginning of enrichment\n",
    "from recipe_100ppt import (isos_no232, isos_232, enr_no232, enr_232, \n",
    "                           uox_no232, uox_10pct232, uox_50pct232, uox_232, \n",
    "                           spent_no232, spent_10pct232, spent_50pct232, \n",
    "                           spent_232, ff_no232, ff_232, spentff_no232, \n",
    "                           spentff_232\n",
    "                          )"
   ]
  },
  {
   "cell_type": "markdown",
   "metadata": {},
   "source": [
    "# Main Input File "
   ]
  },
  {
   "cell_type": "code",
   "execution_count": 13,
   "metadata": {},
   "outputs": [],
   "source": [
    "control = {'duration' : sim_duration, \n",
    "           'startmonth' : 1, \n",
    "           'startyear' : 2022,\n",
    "           'dt' : 86400, \n",
    "           #'explicit_inventory' : True\n",
    "          }"
   ]
  },
  {
   "cell_type": "code",
   "execution_count": 14,
   "metadata": {},
   "outputs": [],
   "source": [
    "def run_sim(filebase):\n",
    "    in_file = filebase + '.py'\n",
    "    sim_file = '../output/' + filebase + '.sqlite'\n",
    "\n",
    "    with open(in_file, 'w') as file: \n",
    "        file.write('SIMULATION = ' + str(full_sim))\n",
    "    subprocess.run(['rm', sim_file])\n",
    "    subprocess.run(['cyclus', in_file, '-o', sim_file])    \n",
    "    return"
   ]
  },
  {
   "cell_type": "markdown",
   "metadata": {},
   "source": [
    "## EG01"
   ]
  },
  {
   "cell_type": "code",
   "execution_count": 15,
   "metadata": {},
   "outputs": [],
   "source": [
    "archetypes = {'spec' : [{'lib' : 'cycamore', 'name' : 'Source'},\n",
    "                        {'lib' : 'cycamore', 'name' : 'Enrichment'},\n",
    "                        {'lib' : 'cycamore', 'name' : 'Mixer'},\n",
    "                        {'lib' : 'cycamore', 'name' : 'Reactor'},\n",
    "                        {'lib' : 'cycamore', 'name' : 'Storage'},\n",
    "                        {'lib' : 'cycamore', 'name' : 'Sink'},\n",
    "                        {'lib' : 'cycamore', 'name' : 'DeployInst'},\n",
    "                        {'lib' : 'cycamore', 'name' : 'ManagerInst'},\n",
    "                        {'lib' : 'cycamore', 'name' : 'GrowthRegion'},\n",
    "                       ]\n",
    "             }"
   ]
  },
  {
   "cell_type": "code",
   "execution_count": 16,
   "metadata": {},
   "outputs": [],
   "source": [
    "# full additive availability at intro\n",
    "full_region = {'name' : 'GrowthRegion', \n",
    "               'config' : growth_region, \n",
    "               'institution' : [init_fleet, eg1_fc_inst]\n",
    "              }\n",
    "full_sim = {'simulation' : {'control' : control,\n",
    "                            'archetypes' : archetypes,\n",
    "                            'region' : full_region,\n",
    "                            'facility' : [init_uox_source, natu_source, non_source, add_source, enrich,\n",
    "                                          du_store, store_no232, mix_no232, store_232, mix_232, \n",
    "                                          lwr_full, lwr_cool, lwr_store, sink\n",
    "                                         ],\n",
    "                            'recipe' : [dep_u, nat_u, isos_no232, isos_232, enr_no232, enr_232, \n",
    "                                        uox_no232, uox_232, spent_no232, spent_232\n",
    "                                       ]\n",
    "                           }\n",
    "           }"
   ]
  },
  {
   "cell_type": "code",
   "execution_count": 17,
   "metadata": {},
   "outputs": [],
   "source": [
    "run_sim('01_full-add_flat-pwr')"
   ]
  },
  {
   "cell_type": "markdown",
   "metadata": {},
   "source": [
    "# EG01 --> 23\n",
    "## Prototype Definitions"
   ]
  },
  {
   "cell_type": "code",
   "execution_count": 7,
   "metadata": {},
   "outputs": [],
   "source": [
    "# remember that mixer facilities have fake ratios as of 3/9/22\n",
    "from eg23_facilities import (eg23_sink, non_lwr_cool, add_lwr_cool, lwr_sep, \n",
    "                             sfr_mix_no232, sfr_mix_232, non_sfr_cool, add_sfr_cool,\n",
    "                             sfr_sep)"
   ]
  },
  {
   "cell_type": "code",
   "execution_count": 43,
   "metadata": {},
   "outputs": [],
   "source": [
    "sfr = {'name' : 'SFR', \n",
    "       'lifetime' : rxtr_life,\n",
    "       'config' : {'Reactor' : {'fuel_incommods' :  {'val' : ['FF_Non', 'FF_Add']},\n",
    "                                'fuel_outcommods' : {'val' : ['SpentFF_Non', 'SpentFF_Add']},\n",
    "                                'fuel_inrecipes' :  {'val' : ['FF_no232', 'FF_232']},\n",
    "                                'fuel_outrecipes' : {'val' : ['SpentFF_no232', 'SpentFF_232']},\n",
    "                                'fuel_prefs' : {'val' : [1, 2]},\n",
    "                                'cycle_time' : 14,\n",
    "                                'refuel_time' : 0,\n",
    "                                'assem_size' : 7490,\n",
    "                                'n_assem_core' : 5,\n",
    "                                'n_assem_batch' : 1,\n",
    "                                'power_name' : 'PowerSFR',\n",
    "                                'power_cap' : 400\n",
    "                               }\n",
    "                  }\n",
    "      }"
   ]
  },
  {
   "cell_type": "markdown",
   "metadata": {},
   "source": [
    "## Regions and Institutions"
   ]
  },
  {
   "cell_type": "code",
   "execution_count": 33,
   "metadata": {},
   "outputs": [],
   "source": [
    "eg1_23_fc_prototypes = ['SourceNatU', 'SourceNonIsos', 'SourceAddIsos', 'Enrichment', 'StorageDepU', \n",
    "                        'UOXStrNon', 'UOXMixNon', 'UOXStrAdd', 'UOXMixAdd', 'LWR', \n",
    "                        'UOXCoolNon', 'UOXCoolAdd', 'Waste', 'SFR'\n",
    "                       ]\n",
    "\n",
    "eg1_23_fc_inst = {'name' : 'FCInstEG01-23', \n",
    "                  'initialfacilitylist' : {'entry' : [{'number' : 1, 'prototype' : 'SourceInitUOX'},\n",
    "                                                      {'number' : 1, 'prototype' : 'SourceNatU'},\n",
    "                                                      {'number' : 1, 'prototype' : 'SourceNonIsos'},\n",
    "                                                      {'number' : 1, 'prototype' : 'SourceAddIsos'},\n",
    "                                                      {'number' : 1, 'prototype' : 'Enrichment'},\n",
    "                                                      {'number' : 1, 'prototype' : 'StorageDepU'},\n",
    "                                                      {'number' : 1, 'prototype' : 'UOXStrNon'},\n",
    "                                                      {'number' : 1, 'prototype' : 'UOXMixNon'},\n",
    "                                                      {'number' : 1, 'prototype' : 'UOXStrAdd'},\n",
    "                                                      {'number' : 1, 'prototype' : 'UOXMixAdd'},\n",
    "                                                      {'number' : 1, 'prototype' : 'UOXCoolNon'},\n",
    "                                                      {'number' : 1, 'prototype' : 'UOXCoolAdd'},\n",
    "                                                      {'number' : 1, 'prototype' : 'Waste'}]\n",
    "                                          },\n",
    "                  'config' : {'ManagerInst' : {'prototypes' : {'val' : eg1_23_fc_prototypes}\n",
    "                                              }\n",
    "                             }\n",
    "                 }\n",
    "\n",
    "eg23_fc_prototypes = ['UOXSep', 'FFMixNon', 'FFMixAdd', 'FFCoolNon', 'FFCoolAdd', 'FFSep']#\n",
    "eg23_nbuilds = [1 for x in range(0, len(eg23_fc_prototypes))]\n",
    "eg23_buildtimes = [trans_time for x in range(0, len(eg23_fc_prototypes))]\n",
    "eg23_deploy = {'name' : 'EG23Deploy', \n",
    "               'config' : {'DeployInst' : {'prototypes' :  {'val' : eg23_fc_prototypes},\n",
    "                                           'n_build' :     {'val' : eg23_nbuilds},\n",
    "                                           'build_times' : {'val' : eg23_buildtimes}\n",
    "                                          }\n",
    "                          }\n",
    "              }"
   ]
  },
  {
   "cell_type": "code",
   "execution_count": 11,
   "metadata": {},
   "outputs": [],
   "source": [
    "m = 20\n",
    "lin_func_0 = {'type' : 'linear', 'params' : '0 100000'}\n",
    "lin_func_1 = {'type' : 'linear', 'params' : '-' + str(m) + ' 0'}\n",
    "lin_func_2 = {'type' : 'linear', 'params' : str(m) + ' 0'}\n",
    "lin_func_lwr = {'piece' : [{'start' : 18,\n",
    "                            'function' : lin_func_0\n",
    "                           },\n",
    "                           {'start' : trans_time,\n",
    "                            'function' : lin_func_1\n",
    "                           }\n",
    "                          ]\n",
    "               }\n",
    "lin_func_sfr = {'piece' : [{'start' : trans_time,\n",
    "                            'function' : lin_func_2\n",
    "                           }\n",
    "                          ]\n",
    "               }\n",
    "growth_region = {'GrowthRegion' : {'growth' : {'item' : [{'commod' : 'PowerLWR',\n",
    "                                                          'piecewise_function' : lin_func_lwr\n",
    "                                                         },\n",
    "                                                         {'commod' : 'PowerSFR',\n",
    "                                                          'piecewise_function' : lin_func_sfr\n",
    "                                                         }\n",
    "                                                        ]\n",
    "                                              }\n",
    "                                  }\n",
    "                }"
   ]
  },
  {
   "cell_type": "code",
   "execution_count": 48,
   "metadata": {},
   "outputs": [],
   "source": [
    "archetypes = {'spec' : [{'lib' : 'cycamore', 'name' : 'Source'},\n",
    "                        {'lib' : 'cycamore', 'name' : 'Enrichment'},\n",
    "                        {'lib' : 'cycamore', 'name' : 'Mixer'},\n",
    "                        {'lib' : 'cycamore', 'name' : 'Reactor'},\n",
    "                        {'lib' : 'cycamore', 'name' : 'Storage'},\n",
    "                        {'lib' : 'cycamore', 'name' : 'Separations'},\n",
    "                        {'lib' : 'cycamore', 'name' : 'Sink'},\n",
    "                        {'lib' : 'cycamore', 'name' : 'DeployInst'},\n",
    "                        {'lib' : 'cycamore', 'name' : 'ManagerInst'},\n",
    "                        {'lib' : 'cycamore', 'name' : 'GrowthRegion'},\n",
    "                      ]\n",
    "             }\n",
    "\n",
    "\n",
    "# full additive availability at intro\n",
    "full_region = {'name' : 'GrowthRegion', \n",
    "               'config' : growth_region, \n",
    "               'institution' : [init_fleet, eg1_23_fc_inst, eg23_deploy]\n",
    "              }\n",
    "full_sim = {'simulation' : {'control' : control,\n",
    "                            'archetypes' : archetypes,\n",
    "                            'region' : full_region,\n",
    "                            'facility' : [init_uox_source, natu_source, non_source, add_source, enrich,\n",
    "                                          du_store, store_no232, mix_no232, store_232, mix_232, lwr_full, \n",
    "                                          non_lwr_cool, add_lwr_cool, lwr_sep, sfr_mix_232, sfr_mix_no232, \n",
    "                                          sfr, sfr_sep, non_sfr_cool, add_sfr_cool, eg23_sink\n",
    "                                         ],\n",
    "                            'recipe' : [dep_u, nat_u, isos_no232, isos_232, enr_no232, enr_232, \n",
    "                                        uox_no232, uox_232, spent_no232, spent_232, ff_no232, ff_232, \n",
    "                                        spentff_no232, spentff_232\n",
    "                                       ]\n",
    "                           }\n",
    "           }"
   ]
  },
  {
   "cell_type": "code",
   "execution_count": null,
   "metadata": {},
   "outputs": [],
   "source": [
    "run_sim('23_full-add_flat-pwr')"
   ]
  },
  {
   "cell_type": "markdown",
   "metadata": {},
   "source": [
    "# Ramp-up Approach EG01 Only (so far)\n",
    "\n",
    "10% additive fuel in refuel for 3 cycles, 50% for the next 3, and 100% after that."
   ]
  },
  {
   "cell_type": "code",
   "execution_count": null,
   "metadata": {},
   "outputs": [],
   "source": [
    "from eg01_facilities import (store_pct_no232, store_pct_232, \n",
    "                             mix_50pct232, mix_10pct232)\n",
    "\n",
    "# LWR prototype for partial additive availability/slow utility uptake upon introduction\n",
    "intro_50 = intro_time + 3 * cycle_time\n",
    "intro_100 = intro_50 + 3 * cycle_time\n",
    "lwr_ramp = {'name' : 'LWR',\n",
    "            'lifetime' : 960,\n",
    "            'config' : {'Reactor' : {'fuel_incommods' :  {'val' : ['UOX_Add', 'UOX_50pctAdd', 'UOX_10pctAdd', 'UOX_Non', 'InitUOX']},\n",
    "                                     'fuel_outcommods' : {'val' : ['SpentUOX_Add', 'SpentUOX_50pctAdd', 'SpentUOX_10pctAdd', 'SpentUOX_Non', 'SpentUOX_Non']},\n",
    "                                     'fuel_inrecipes' :  {'val' : ['UOX_232', 'UOX_50pct232', 'UOX_10pct232', 'UOX_no232', 'UOX_no232']},\n",
    "                                     'fuel_outrecipes' : {'val' : ['SpentUOX_232', 'SpentUOX_50pct232', 'SpentUOX_10pct232', 'SpentUOX_no232', 'SpentUOX_no232']},\n",
    "                                     'fuel_prefs' : {'val' : [1, 1, 1, 2, 2.5]},\n",
    "                                     'pref_change_times' : {'val' : [intro_time, intro_50, intro_100]},\n",
    "                                     'pref_change_commods' : {'val' : ['UOX_10pctAdd', 'UOX_50pctAdd', 'UOX_Add']},\n",
    "                                     'pref_change_values' : {'val' : [3, 4, 5]},\n",
    "                                     'cycle_time' : cycle_time,\n",
    "                                     'refuel_time' : 0,\n",
    "                                     'assem_size' : assem_size,\n",
    "                                     'n_assem_core' : n_assem_core,\n",
    "                                     'n_assem_batch' : 1,\n",
    "                                     'power_cap' : 1000\n",
    "                                    }\n",
    "                       }\n",
    "           }"
   ]
  },
  {
   "cell_type": "code",
   "execution_count": null,
   "metadata": {},
   "outputs": [],
   "source": [
    "eg1_ramp_prototypes = ['StorageRampNon', 'StorageRampAdd', \n",
    "                       'Mixer50pctAdd', 'Mixer10pctAdd'\n",
    "                      ]\n",
    "\n",
    "t = intro_time\n",
    "\n",
    "eg1_ramp_inst = {'name' : 'RampInstEG01', \n",
    "                 'config' : {'DeployInst' : {'prototypes' :  {'val' : eg1_ramp_prototypes},\n",
    "                                             'n_build' :     {'val' : [1, 1, 1, 1]},\n",
    "                                             'build_times' : {'val' : [t, t, t, t]}\n",
    "                                            }\n",
    "                            }\n",
    "                }"
   ]
  },
  {
   "cell_type": "code",
   "execution_count": 15,
   "metadata": {},
   "outputs": [
    {
     "ename": "NameError",
     "evalue": "name 'eg1_ramp_inst' is not defined",
     "output_type": "error",
     "traceback": [
      "\u001b[0;31m---------------------------------------------------------------------------\u001b[0m",
      "\u001b[0;31mNameError\u001b[0m                                 Traceback (most recent call last)",
      "\u001b[0;32m<ipython-input-15-11aacd847be3>\u001b[0m in \u001b[0;36m<module>\u001b[0;34m\u001b[0m\n\u001b[1;32m      2\u001b[0m ramp_region = {'name' : 'GrowthRegion', \n\u001b[1;32m      3\u001b[0m                \u001b[0;34m'config'\u001b[0m \u001b[0;34m:\u001b[0m \u001b[0mgrowth_region\u001b[0m\u001b[0;34m,\u001b[0m\u001b[0;34m\u001b[0m\u001b[0;34m\u001b[0m\u001b[0m\n\u001b[0;32m----> 4\u001b[0;31m                \u001b[0;34m'institution'\u001b[0m \u001b[0;34m:\u001b[0m \u001b[0;34m[\u001b[0m\u001b[0minit_fleet\u001b[0m\u001b[0;34m,\u001b[0m \u001b[0meg1_fc_inst\u001b[0m\u001b[0;34m,\u001b[0m \u001b[0meg1_ramp_inst\u001b[0m\u001b[0;34m]\u001b[0m\u001b[0;34m\u001b[0m\u001b[0;34m\u001b[0m\u001b[0m\n\u001b[0m\u001b[1;32m      5\u001b[0m               }\n\u001b[1;32m      6\u001b[0m ramp_sim = {'simulation' : {'control' : control,\n",
      "\u001b[0;31mNameError\u001b[0m: name 'eg1_ramp_inst' is not defined"
     ]
    }
   ],
   "source": [
    "# ramp up additive availability at intro\n",
    "ramp_region = {'name' : 'GrowthRegion', \n",
    "               'config' : growth_region, \n",
    "               'institution' : [init_fleet, eg1_fc_inst, eg1_ramp_inst]\n",
    "              }\n",
    "ramp_sim = {'simulation' : {'control' : control,\n",
    "                            'archetypes' : archetypes,\n",
    "                            'region' : ramp_region,\n",
    "                            'facility' : [init_uox_source, natu_source, non_source, add_source, enrich,\n",
    "                                          du_store, store_no232, mix_no232, store_232, mix_232, \n",
    "                                          store_pct_no232, store_pct_232, mix_50pct232, mix_10pct232, \n",
    "                                          lwr_ramp, lwr_cool, lwr_store, sink\n",
    "                                         ],\n",
    "                            'recipe' : [dep_u, nat_u, isos_no232, isos_232, enr_no232, enr_232, \n",
    "                                        uox_no232, uox_10pct232, uox_50pct232, uox_232,\n",
    "                                        spent_no232, spent_10pct232, spent_50pct232, spent_232\n",
    "                                       ]\n",
    "                           }\n",
    "           }"
   ]
  },
  {
   "cell_type": "markdown",
   "metadata": {},
   "source": [
    "# Set of Simulations \n",
    "\n",
    "List of Simulation Scenarios (24):\n",
    "\n",
    "If this is done with flat power plus 1% growth in power, doubles to 48 simulations\n",
    "\n",
    "- EG Scenarios\n",
    "  1. 01\n",
    "  2. 01-23\n",
    "  3. 01-29\n",
    "- Init Additive Concentration\n",
    "  1. 100ppt\n",
    "  2. ???pp?\n",
    "- Date\n",
    "  1. long before transition\n",
    "  2. closer to transition\n",
    "- Rate\n",
    "  1. full availability\n",
    "  2. ramp up availability"
   ]
  },
  {
   "cell_type": "code",
   "execution_count": 19,
   "metadata": {},
   "outputs": [
    {
     "name": "stdout",
     "output_type": "stream",
     "text": [
      "01_100ppt_05yr_full\n",
      "01_100ppt_05yr_ramp\n",
      "01_100ppt_15yr_full\n",
      "01_100ppt_15yr_ramp\n",
      "01_100ppb_05yr_full\n",
      "01_100ppb_05yr_ramp\n",
      "01_100ppb_15yr_full\n",
      "01_100ppb_15yr_ramp\n",
      "23_100ppt_05yr_full\n",
      "23_100ppt_05yr_ramp\n",
      "23_100ppt_15yr_full\n",
      "23_100ppt_15yr_ramp\n",
      "23_100ppb_05yr_full\n",
      "23_100ppb_05yr_ramp\n",
      "23_100ppb_15yr_full\n",
      "23_100ppb_15yr_ramp\n",
      "29_100ppt_05yr_full\n",
      "29_100ppt_05yr_ramp\n",
      "29_100ppt_15yr_full\n",
      "29_100ppt_15yr_ramp\n",
      "29_100ppb_05yr_full\n",
      "29_100ppb_05yr_ramp\n",
      "29_100ppb_15yr_full\n",
      "29_100ppb_15yr_ramp\n"
     ]
    }
   ],
   "source": [
    "# File Names:\n",
    "for eg in ['01', '23', '29']:\n",
    "    for ppx in ['100ppt', '100ppb']:\n",
    "        for date in ['05yr', '15yr']:\n",
    "            for rate in ['full', 'ramp']:\n",
    "                file = eg + '_' + ppx + '_' + date + '_' + rate\n",
    "                print(file)"
   ]
  },
  {
   "cell_type": "code",
   "execution_count": null,
   "metadata": {},
   "outputs": [],
   "source": []
  }
 ],
 "metadata": {
  "kernelspec": {
   "display_name": "Python 3",
   "language": "python",
   "name": "python3"
  },
  "language_info": {
   "codemirror_mode": {
    "name": "ipython",
    "version": 3
   },
   "file_extension": ".py",
   "mimetype": "text/x-python",
   "name": "python",
   "nbconvert_exporter": "python",
   "pygments_lexer": "ipython3",
   "version": "3.8.10"
  }
 },
 "nbformat": 4,
 "nbformat_minor": 4
}
