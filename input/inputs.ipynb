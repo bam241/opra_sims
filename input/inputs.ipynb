{
 "cells": [
  {
   "cell_type": "code",
   "execution_count": 1,
   "metadata": {},
   "outputs": [],
   "source": [
    "import subprocess\n",
    "import numpy as np"
   ]
  },
  {
   "cell_type": "code",
   "execution_count": 2,
   "metadata": {},
   "outputs": [],
   "source": [
    "# Variable params\n",
    "# EG scenarios presumed to start in 2022 with first LWR decom in 2023.\n",
    "intro_time = 12 * 5 # intro time for additive: 5 yrs\n",
    "sim_duration = 12 * 100 # 100 years (don't need this length for EG01, but prob do for transitions)\n",
    "trans_time = 12 * 15 # 15 yrs, transition time for EG01 --> EGXX. Transition time is assumed to always be greater than intro time\n",
    "\n",
    "# \"Non-Variable\" Params\n",
    "n_init_rxtrs = 100\n",
    "n_assem_core = 3\n",
    "assem_size = 29565\n",
    "init_total_assem_size = n_init_rxtrs * n_assem_core * assem_size\n",
    "cycle_time = 18\n",
    "rxtr_life = 12 * 60 "
   ]
  },
  {
   "cell_type": "markdown",
   "metadata": {},
   "source": [
    "# Protoype Definitions:\n",
    "1. EG01 Fuel Cycle Facilities\n",
    "  - Full Additive Availability\n",
    "  - Ramp-up Additive Approach\n",
    "2. EG23 Fuel Cycle Facilities"
   ]
  },
  {
   "cell_type": "markdown",
   "metadata": {},
   "source": [
    "## 1. EG01 Fuel Cycle Facilities\n",
    "### (a) Full Additive Availability"
   ]
  },
  {
   "cell_type": "code",
   "execution_count": 3,
   "metadata": {},
   "outputs": [],
   "source": [
    "init_uox_source = {'name' : 'SourceInitUOX', \n",
    "                   'config' : {'Source' : {'outcommod' : 'InitUOX',\n",
    "                                           'outrecipe' : 'UOX_no232',\n",
    "                                           'inventory_size' : init_total_assem_size\n",
    "                                          }\n",
    "                              }\n",
    "                  }"
   ]
  },
  {
   "cell_type": "code",
   "execution_count": 4,
   "metadata": {},
   "outputs": [],
   "source": [
    "from eg01_facilities import (natu_source, non_source, add_source, enrich, \n",
    "                             du_store, store_no232, mix_no232, store_232, \n",
    "                             mix_232, lwr_cool, lwr_store, sink)"
   ]
  },
  {
   "cell_type": "code",
   "execution_count": 5,
   "metadata": {},
   "outputs": [],
   "source": [
    "# LWR prototype for full additive availability upon introduction\n",
    "lwr_full = {'name' : 'LWR',\n",
    "            'lifetime' : rxtr_life,\n",
    "            'config' : {'Reactor' : {'fuel_incommods' :  {'val' : ['UOX_Add', 'UOX_Non', 'InitUOX']},\n",
    "                                     'fuel_outcommods' : {'val' : ['SpentUOX_Add', 'SpentUOX_Non', 'SpentUOX_Non']},\n",
    "                                     'fuel_inrecipes' :  {'val' : ['UOX_232', 'UOX_no232', 'UOX_no232']},\n",
    "                                     'fuel_outrecipes' : {'val' : ['SpentUOX_232', 'SpentUOX_no232', 'SpentUOX_no232']},\n",
    "                                     'fuel_prefs' : {'val' : [1, 2, 2.5]},\n",
    "                                     'pref_change_times' : {'val' : intro_time},\n",
    "                                     'pref_change_commods' : {'val' : 'UOX_Add'},\n",
    "                                     'pref_change_values' : {'val' : 3},\n",
    "                                     'cycle_time' : cycle_time,\n",
    "                                     'refuel_time' : 0,\n",
    "                                     'assem_size' : assem_size,\n",
    "                                     'n_assem_core' : n_assem_core,\n",
    "                                     'n_assem_batch' : 1,\n",
    "                                     'power_name' : 'PowerLWR',\n",
    "                                     'power_cap' : 1000\n",
    "                                    }\n",
    "                       }\n",
    "           }"
   ]
  },
  {
   "cell_type": "markdown",
   "metadata": {},
   "source": [
    "### (b) Additional Facilities for Ramp-up Add Approach"
   ]
  },
  {
   "cell_type": "code",
   "execution_count": null,
   "metadata": {},
   "outputs": [],
   "source": [
    "from eg01_facilities import (store_pct_no232, store_pct_232, \n",
    "                             mix_50pct232, mix_10pct232)\n",
    "\n",
    "# LWR prototype for partial additive availability/slow utility uptake upon introduction\n",
    "intro_50 = intro_time + 3 * cycle_time\n",
    "intro_100 = intro_50 + 3 * cycle_time\n",
    "lwr_ramp = {'name' : 'LWR',\n",
    "            'lifetime' : 960,\n",
    "            'config' : {'Reactor' : {'fuel_incommods' :  {'val' : ['UOX_Add', 'UOX_50pctAdd', 'UOX_10pctAdd', 'UOX_Non', 'InitUOX']},\n",
    "                                     'fuel_outcommods' : {'val' : ['SpentUOX_Add', 'SpentUOX_50pctAdd', 'SpentUOX_10pctAdd', 'SpentUOX_Non', 'SpentUOX_Non']},\n",
    "                                     'fuel_inrecipes' :  {'val' : ['UOX_232', 'UOX_50pct232', 'UOX_10pct232', 'UOX_no232', 'UOX_no232']},\n",
    "                                     'fuel_outrecipes' : {'val' : ['SpentUOX_232', 'SpentUOX_50pct232', 'SpentUOX_10pct232', 'SpentUOX_no232', 'SpentUOX_no232']},\n",
    "                                     'fuel_prefs' : {'val' : [1, 1, 1, 2, 2.5]},\n",
    "                                     'pref_change_times' : {'val' : [intro_time, intro_50, intro_100]},\n",
    "                                     'pref_change_commods' : {'val' : ['UOX_10pctAdd', 'UOX_50pctAdd', 'UOX_Add']},\n",
    "                                     'pref_change_values' : {'val' : [3, 4, 5]},\n",
    "                                     'cycle_time' : cycle_time,\n",
    "                                     'refuel_time' : 0,\n",
    "                                     'assem_size' : assem_size,\n",
    "                                     'n_assem_core' : n_assem_core,\n",
    "                                     'n_assem_batch' : 1,\n",
    "                                     'power_cap' : 1000\n",
    "                                    }\n",
    "                       }\n",
    "           }"
   ]
  },
  {
   "cell_type": "markdown",
   "metadata": {},
   "source": [
    "## 2. EG23 Fuel Cycle Facilities"
   ]
  },
  {
   "cell_type": "code",
   "execution_count": 6,
   "metadata": {},
   "outputs": [],
   "source": [
    "eg23_sink = {'name' : 'Waste',\n",
    "             'config' : {'Sink' : {'in_commods' : {'val' : 'Waste'}\n",
    "                                  }\n",
    "                        }\n",
    "            }\n",
    "\n",
    "# Post-LWR Facilities\n",
    "\n",
    "# Storage facilities can take many inputs but only give one output, so unlike in EG01 \n",
    "# am now separating the spent fuel cooling and storage into separate streams\n",
    "non_lwr_cool = {'name' : 'UOXCoolNon',\n",
    "                'config' : {'Storage' : {'in_commods' : {'val' : 'SpentUOX_Non'},\n",
    "                                         'out_commods' : {'val' : 'CooledSpentUOX_Non'},\n",
    "                                         'in_recipe' : 'SpentUOX_no232',\n",
    "                                         'residence_time' : 81\n",
    "                                        }\n",
    "                           }\n",
    "               }\n",
    "add_lwr_cool = {'name' : 'UOXCoolAdd',\n",
    "                'config' : {'Storage' : {'in_commods' : {'val' : 'SpentUOX_Add'},\n",
    "                                         'out_commods' : {'val' : 'CooledSpentUOX_Add'},\n",
    "                                         'in_recipe' : 'SpentUOX_232',\n",
    "                                         'residence_time' : 81\n",
    "                                        }\n",
    "                           }\n",
    "               }\n",
    "lwr_sep_streams = {'item' : [{'commod' : 'UOX_Pu',\n",
    "                              'info' : {'buf_size' : 1e100,\n",
    "                                        'efficiencies' : {'item' : {'comp': 'Pu239', \n",
    "                                                                    'eff': 0.99}}\n",
    "                                       }\n",
    "                             },\n",
    "                             {'commod' : 'UOX_RU',\n",
    "                              'info' : {'buf_size' : 1e100,\n",
    "                                        'efficiencies' : {'item' : {'comp': 'U238', \n",
    "                                                                    'eff': 0.99}}\n",
    "                                       }\n",
    "                             }\n",
    "                            ]\n",
    "                  }\n",
    "lwr_sep = {'name' : 'UOXSep',\n",
    "           'config' : {'Separations' : {'leftover_commod' : 'Waste',\n",
    "                                        'throughput' : 83333.3333,\n",
    "                                        'feedbuf_size' : 107537,\n",
    "                                        # can't use feed recipe unless we split into 2 sep facilities for each commod\n",
    "                                        'feed_commods' : {'val' : ['CooledSpentUOX_Non', 'CooledSpentUOX_Add']},\n",
    "                                        'feed_commod_prefs' : {'val' : [1, 2]},\n",
    "                                        'streams' : lwr_sep_streams\n",
    "                                       }\n",
    "                      }\n",
    "          }"
   ]
  },
  {
   "cell_type": "code",
   "execution_count": 7,
   "metadata": {},
   "outputs": [],
   "source": [
    "# SFR Additions\n",
    "\n",
    "mix_pu = {'info' : {'mixing_ratio' : 0.0900, \n",
    "                    'buf_size' : 1e8},\n",
    "          'commodities' : {'item' : [{'commodity' : 'UOX_Pu',\n",
    "                                      'pref' : 1},\n",
    "                                     {'commodity' : 'FF_Pu',\n",
    "                                      'pref' : 1}, # AFRC has 2 here\n",
    "                                    ]\n",
    "                          }\n",
    "         }\n",
    "mix_ru = {'info' : {'mixing_ratio' : 0.7100,\n",
    "                    'buf_size' : 1e8\n",
    "                   }, \n",
    "          'commodities' : {'item' : [{'commodity' : 'UOX_RU',\n",
    "                                      'pref' : 1},\n",
    "                                     {'commodity' : 'FF_RU',\n",
    "                                      'pref' : 1}\n",
    "                                    ]\n",
    "                          }\n",
    "         }\n",
    "mix_natu = {'info' : {'mixing_ratio' : 0.1995,\n",
    "                      'buf_size' : 1e8\n",
    "                     }, \n",
    "            'commodities' : {'item' : [{'commodity' : 'StoredDepU',\n",
    "                                        'pref' : 2},\n",
    "                                       {'commodity' : 'NatU',\n",
    "                                        'pref' : 1}\n",
    "                                      ]\n",
    "                            }\n",
    "           }\n",
    "mix_non_iso = {'info' : {'mixing_ratio' : 0.0005,\n",
    "                         'buf_size' : 1e8\n",
    "                        }, \n",
    "               'commodities' : {'item' : {'commodity' : 'NonIsos',\n",
    "                                           'pref' : 1}\n",
    "                               }\n",
    "              }\n",
    "mix_add_iso = {'info' : {'mixing_ratio' : 0.0005,\n",
    "                         'buf_size' : 1e8\n",
    "                        }, \n",
    "               'commodities' : {'item' : {'commodity' : 'AddIsos',\n",
    "                                           'pref' : 1}\n",
    "                               }\n",
    "              }\n",
    "sfr_mix_no232 = {'name' : 'FFMixNon',\n",
    "                 'config' : {'Mixer' : {'in_streams' : {'stream' : [mix_pu, mix_ru, mix_natu, mix_non_iso]},\n",
    "                                        'out_commod' : 'FF_Non',\n",
    "                                        'throughput' : 1e10,\n",
    "                                        'out_buf_size' : 1e20\n",
    "                                       }\n",
    "                            }\n",
    "                }\n",
    "sfr_mix_232 = {'name' : 'FFMixAdd',\n",
    "               'config' : {'Mixer' : {'in_streams' : {'stream' : [mix_pu, mix_ru, mix_natu, mix_add_iso]},\n",
    "                                      'out_commod' : 'FF_Add',\n",
    "                                      'throughput' : 1e10,\n",
    "                                      'out_buf_size' : 1e20\n",
    "                                     }\n",
    "                          }\n",
    "              }\n",
    "non_sfr_cool = {'name' : 'FFCoolNon',\n",
    "                'config' : {'Storage' : {'in_commods' : {'val' : 'SpentFF_Non'},\n",
    "                                         'out_commods' : {'val' : 'CooledSpentFF_Non'},\n",
    "                                         'in_recipe' : 'SpentFF_no232',\n",
    "                                         'residence_time' : 81\n",
    "                                        }\n",
    "                           }\n",
    "               }\n",
    "add_sfr_cool = {'name' : 'FFCoolAdd',\n",
    "                'config' : {'Storage' : {'in_commods' : {'val' : 'SpentFF_Add'},\n",
    "                                         'out_commods' : {'val' : 'CooledSpentFF_Add'},\n",
    "                                         'in_recipe' : 'SpentFF_232',\n",
    "                                         'residence_time' : 81\n",
    "                                        }\n",
    "                           }\n",
    "               }\n",
    "sfr_sep_streams = {'item' : [{'commod' : 'FF_Pu',\n",
    "                              'info' : {'buf_size' : 1e100,\n",
    "                                        'efficiencies' : {'item' : {'comp': 'Pu239', \n",
    "                                                                    'eff': 0.99}}\n",
    "                                       }\n",
    "                             },\n",
    "                             {'commod' : 'FF_RU',\n",
    "                              'info' : {'buf_size' : 1e100,\n",
    "                                        'efficiencies' : {'item' : {'comp': 'U238', \n",
    "                                                                    'eff': 0.99}}\n",
    "                                       }\n",
    "                             }\n",
    "                            ]\n",
    "                  }\n",
    "#other studies changed SepSFR values to 1e100\n",
    "sfr_sep = {'name' : 'FFSep',\n",
    "           'config' : {'Separations' : {'leftover_commod' : 'Waste',\n",
    "                                        'throughput' : 83333.3333, \n",
    "                                        'feedbuf_size' : 107537,\n",
    "                                        # can't use feed recipe unless we split into 2 sep facilities for each commod\n",
    "                                        'feed_commods' : {'val' : ['CooledSpentFF_Non', 'CooledSpentFF_Add']},\n",
    "                                        'feed_commod_prefs' : {'val' : [1, 2]},\n",
    "                                        'streams' : sfr_sep_streams\n",
    "                                       }\n",
    "                      }\n",
    "          }"
   ]
  },
  {
   "cell_type": "code",
   "execution_count": 8,
   "metadata": {},
   "outputs": [],
   "source": [
    "sfr = {'name' : 'SFR', \n",
    "       'lifetime' : rxtr_life,\n",
    "       'config' : {'Reactor' : {'fuel_incommods' :  {'val' : ['FF_Non', 'FF_Add']},\n",
    "                                'fuel_outcommods' : {'val' : ['SpentFF_Non', 'SpentFF_Add']},\n",
    "                                'fuel_inrecipes' :  {'val' : ['FF_no232', 'FF_232']},\n",
    "                                'fuel_outrecipes' : {'val' : ['SpentFF_no232', 'SpentFF_232']},\n",
    "                                'fuel_prefs' : {'val' : [1, 2]},\n",
    "                                'cycle_time' : 14,\n",
    "                                'refuel_time' : 0,\n",
    "                                'assem_size' : 7490,\n",
    "                                'n_assem_core' : 5,\n",
    "                                'n_assem_batch' : 1,\n",
    "                                'power_name' : 'PowerSFR',\n",
    "                                'power_cap' : 400\n",
    "                               }\n",
    "                  }\n",
    "      }"
   ]
  },
  {
   "cell_type": "markdown",
   "metadata": {},
   "source": [
    "# Regions and Institutions:\n",
    "1. Deploy Inst (Init Fleet)\n",
    "2. Remainder of FC facilities\n",
    "  - EG01 Manager Inst\n",
    "  - Additional Facilities for Add Ramp-up (Manager Inst)\n",
    "3. Growth Region\n",
    "4. EG23 Deploy & Manager Insts (Separations and SFRs)"
   ]
  },
  {
   "cell_type": "markdown",
   "metadata": {},
   "source": [
    "## 1. Init LWR Fleet (Deploy Inst)"
   ]
  },
  {
   "cell_type": "code",
   "execution_count": 9,
   "metadata": {},
   "outputs": [],
   "source": [
    "init_lwr_prototypes = ['LWR' for x in range(0, n_init_rxtrs)]\n",
    "n_builds = [1 for x in range(0, n_init_rxtrs)]\n",
    "build_times = [x + 1 for x in range(0, 17) for y in range(0,6)]\n",
    "del build_times[-3:-1]\n",
    "# Lifetimes borrowed from previous EG scenario work presuming a \n",
    "# start year of 2000 and first decommission in 2015. Updated to \n",
    "# better stagger decommissioning.\n",
    "old_lives = [181, 186, 191, 196, \n",
    "             201, 206, 211, 216, 221, 226, 231, 236, 241, 246, 251, 256, 261, 266, 271, 276, 281, 286, 291, 296,\n",
    "             301, 306, 311, 316, 321, 326, 331, 336, 341, 346, 351, 356, 361, 366, 371, 376, 381, 386, 391, 396,\n",
    "             401, 406, 411, 416, 421, 426, 431, 436, 441, 446, 451, 456, 461, 466, 471, 476, 481, 486, 491, 496,\n",
    "             501, 506, 511, 516, 521, 526, 531, 536, 541, 546, 551, 556, 561, 566, 571, 576, 581, 586, 591, 596,\n",
    "             601, 606, 611, 616, 621, 626, 631, 636, 641, 646, 651, 656, 661, 666, 671, 676\n",
    "            ]\n",
    "# Overwrite lifetimes to have decommission start 1.5 year in, \n",
    "# expecting a sim start of 2022\n",
    "lifetimes = [x - 163 for x in old_lives]\n",
    "\n",
    "assert len(init_lwr_prototypes) == n_init_rxtrs\n",
    "assert len(n_builds) == n_init_rxtrs\n",
    "assert len(build_times) == n_init_rxtrs\n",
    "assert len(lifetimes) == n_init_rxtrs"
   ]
  },
  {
   "cell_type": "code",
   "execution_count": 10,
   "metadata": {},
   "outputs": [],
   "source": [
    "init_fleet = {'name' : 'InitFleet', \n",
    "              'config' : {'DeployInst' : {'prototypes' :  {'val' : init_lwr_prototypes},\n",
    "                                          'n_build' :     {'val' : n_builds},\n",
    "                                          'build_times' : {'val' : build_times},\n",
    "                                          'lifetimes' :   {'val' : lifetimes}\n",
    "                                         }\n",
    "                         }\n",
    "             }"
   ]
  },
  {
   "cell_type": "markdown",
   "metadata": {},
   "source": [
    "## 2a. EG01 FC Inst (Manager Inst)"
   ]
  },
  {
   "cell_type": "code",
   "execution_count": null,
   "metadata": {},
   "outputs": [],
   "source": [
    "eg1_fc_prototypes = ['SourceNatU', 'SourceNonIsos', 'SourceAddIsos', 'Enrichment', 'StorageDepU', \n",
    "                     'UOXStrNon', 'UOXMixNon', 'UOXStrAdd', 'UOXMixAdd', 'LWR', \n",
    "                     'UOXCool', 'UOXStr', 'Waste'\n",
    "                    ]\n",
    "\n",
    "eg1_fc_inst = {'name' : 'FCInstEG01', \n",
    "               'initialfacilitylist' : {'entry' : [{'number' : 1, 'prototype' : 'SourceInitUOX'},\n",
    "                                                   {'number' : 1, 'prototype' : 'SourceNatU'},\n",
    "                                                   {'number' : 1, 'prototype' : 'SourceNonIsos'},\n",
    "                                                   {'number' : 1, 'prototype' : 'SourceAddIsos'},\n",
    "                                                   {'number' : 1, 'prototype' : 'Enrichment'},\n",
    "                                                   {'number' : 1, 'prototype' : 'StorageDepU'},\n",
    "                                                   {'number' : 1, 'prototype' : 'StorageNon'},\n",
    "                                                   {'number' : 1, 'prototype' : 'UOXStrNon'},\n",
    "                                                   {'number' : 1, 'prototype' : 'UOXMixNon'},\n",
    "                                                   {'number' : 1, 'prototype' : 'UOXStrAdd'},\n",
    "                                                   {'number' : 1, 'prototype' : 'UOXMixAdd'},\n",
    "                                                   {'number' : 1, 'prototype' : 'UOXCool'},\n",
    "                                                   {'number' : 1, 'prototype' : 'UOXStr'},\n",
    "                                                   {'number' : 1, 'prototype' : 'Waste'}]\n",
    "                                       },\n",
    "               'config' : {'ManagerInst' : {'prototypes' : {'val' : eg1_fc_prototypes}}}\n",
    "              }"
   ]
  },
  {
   "cell_type": "markdown",
   "metadata": {},
   "source": [
    "## 2b. Add-on Facilities for Add Ramp-up"
   ]
  },
  {
   "cell_type": "code",
   "execution_count": null,
   "metadata": {},
   "outputs": [],
   "source": [
    "eg1_ramp_prototypes = ['StorageRampNon', 'StorageRampAdd', \n",
    "                       'Mixer50pctAdd', 'Mixer10pctAdd'\n",
    "                      ]\n",
    "\n",
    "t = intro_time\n",
    "\n",
    "eg1_ramp_inst = {'name' : 'RampInstEG01', \n",
    "                 'config' : {'DeployInst' : {'prototypes' :  {'val' : eg1_ramp_prototypes},\n",
    "                                             'n_build' :     {'val' : [1, 1, 1, 1]},\n",
    "                                             'build_times' : {'val' : [t, t, t, t]}\n",
    "                                            }\n",
    "                            }\n",
    "                }"
   ]
  },
  {
   "cell_type": "markdown",
   "metadata": {},
   "source": [
    "## 3. Growth Region"
   ]
  },
  {
   "cell_type": "code",
   "execution_count": 29,
   "metadata": {},
   "outputs": [],
   "source": [
    "lin_func_0 = {'type' : 'linear', 'params' : '0 100000'}\n",
    "lin_func_1 = {'type' : 'linear', 'params' : '-75 0'}\n",
    "lin_func_2 = {'type' : 'linear', 'params' : '75 0'}\n",
    "lin_func_lwr = {'piece' : [{'start' : 18,\n",
    "                            'function' : lin_func_0\n",
    "                           },\n",
    "                           {'start' : trans_time,\n",
    "                            'function' : lin_func_1\n",
    "                           }\n",
    "                          ]\n",
    "               }\n",
    "lin_func_sfr = {'piece' : [{'start' : trans_time,\n",
    "                            'function' : lin_func_2\n",
    "                           }]\n",
    "               }\n",
    "growth_region = {'GrowthRegion' : {'growth' : {'item' : [{'commod' : 'PowerLWR','piecewise_function' : lin_func_lwr},\n",
    "                                                         {'commod' : 'PowerSFR','piecewise_function' : lin_func_sfr}]}}}\n",
    "\n",
    "#orig_lin_func = {'piece' : [{'start' : 18,'function' : lin_func_1}]}\n",
    "#growth_region = {'GrowthRegion' : {'growth' : {'item' : [{'commod' : 'power','piecewise_function' : orig_lin_func}]}}}"
   ]
  },
  {
   "cell_type": "markdown",
   "metadata": {},
   "source": [
    "## 4. EG23 FC Insts"
   ]
  },
  {
   "cell_type": "code",
   "execution_count": 12,
   "metadata": {},
   "outputs": [],
   "source": [
    "eg1_23_fc_prototypes = ['SourceNatU', 'SourceNonIsos', 'SourceAddIsos', 'Enrichment', 'StorageDepU', \n",
    "                        'UOXStrNon', 'UOXMixNon', 'UOXStrAdd', 'UOXMixAdd', 'LWR', \n",
    "                        'UOXCoolNon', 'UOXCoolAdd', 'Waste', 'SFR'\n",
    "                       ]\n",
    "\n",
    "eg1_23_fc_inst = {'name' : 'FCInstEG01-23', \n",
    "                  'initialfacilitylist' : {'entry' : [{'number' : 1, 'prototype' : 'SourceInitUOX'},\n",
    "                                                      {'number' : 1, 'prototype' : 'SourceNatU'},\n",
    "                                                      {'number' : 1, 'prototype' : 'SourceNonIsos'},\n",
    "                                                      {'number' : 1, 'prototype' : 'SourceAddIsos'},\n",
    "                                                      {'number' : 1, 'prototype' : 'Enrichment'},\n",
    "                                                      {'number' : 1, 'prototype' : 'StorageDepU'},\n",
    "                                                      {'number' : 1, 'prototype' : 'UOXStrNon'},\n",
    "                                                      {'number' : 1, 'prototype' : 'UOXMixNon'},\n",
    "                                                      {'number' : 1, 'prototype' : 'UOXStrAdd'},\n",
    "                                                      {'number' : 1, 'prototype' : 'UOXMixAdd'},\n",
    "                                                      {'number' : 1, 'prototype' : 'UOXCoolNon'},\n",
    "                                                      {'number' : 1, 'prototype' : 'UOXCoolAdd'},\n",
    "                                                      {'number' : 1, 'prototype' : 'Waste'}]\n",
    "                                          },\n",
    "                  'config' : {'ManagerInst' : {'prototypes' : {'val' : eg1_23_fc_prototypes}\n",
    "                                              }\n",
    "                             }\n",
    "                 }\n",
    "\n",
    "eg23_fc_prototypes = ['UOXSep', 'FFMixNon', 'FFMixAdd', 'FFCoolNon', 'FFCoolAdd', 'FFSep']\n",
    "\n",
    "eg23_nbuilds = [1 for x in range(0, len(eg23_fc_prototypes))]\n",
    "eg23_buildtimes = [trans_time for x in range(0, len(eg23_fc_prototypes))]\n",
    "\n",
    "eg23_deploy = {'name' : 'EG23Deploy', \n",
    "               'config' : {'DeployInst' : {'prototypes' :  {'val' : eg23_fc_prototypes},\n",
    "                                           'n_build' :     {'val' : eg23_nbuilds},\n",
    "                                           'build_times' : {'val' : eg23_buildtimes}\n",
    "                                          }\n",
    "                          }\n",
    "              }\n",
    "\n",
    "#eg23_fc_inst = {'name' : 'FCInstEG23',\n",
    "#                'config' : {'ManagerInst' : {'prototypes' : {'val' : 'SFR'}}}\n",
    "#               }"
   ]
  },
  {
   "cell_type": "markdown",
   "metadata": {},
   "source": [
    "# Recipes\n",
    "-  Here: \n",
    "  1. Depleted U\n",
    "  2. Natural U\n",
    "-  100 ppt Init U232 Additive Recipes (in recipe_100ppt.py):\n",
    "  1. NonAdditive U Isotopes (U234)\n",
    "  2. Additive U Isotopes (U232, U233, U234)\n",
    "  3. Almost UOX NonAdditive Enr Ratio\n",
    "  4. Almost UOX Additive Enr Ratio\n",
    "  5. UOX without Additive\n",
    "  6. UOX with Additive\n",
    "  7. Spent UOX from #5\n",
    "  8. Spent UOX from #6"
   ]
  },
  {
   "cell_type": "code",
   "execution_count": 13,
   "metadata": {},
   "outputs": [],
   "source": [
    "dep_u = {'name' : 'DU',\n",
    "         'basis' : 'mass',\n",
    "         'nuclide' : [{'id' : 'U235', 'comp' : 0.0025}, \n",
    "                      {'id' : 'U238', 'comp' : 0.9975}]\n",
    "        }\n",
    "nat_u = {'name' : 'NU',\n",
    "         'basis' : 'mass',\n",
    "         'nuclide' : [{'id' : 'U235', 'comp' : 0.007110}, \n",
    "                      {'id' : 'U238', 'comp' : 0.992890}]\n",
    "        }"
   ]
  },
  {
   "cell_type": "code",
   "execution_count": 14,
   "metadata": {},
   "outputs": [],
   "source": [
    "# Recipes from 100 ppt U232 additive @ beginning of enrichment\n",
    "from recipe_100ppt import (isos_no232, isos_232, enr_no232, enr_232, \n",
    "                           uox_no232, uox_10pct232, uox_50pct232, uox_232, \n",
    "                           spent_no232, spent_10pct232, spent_50pct232, \n",
    "                           spent_232, ff_no232, ff_232, spentff_no232, \n",
    "                           spentff_232\n",
    "                          )"
   ]
  },
  {
   "cell_type": "markdown",
   "metadata": {},
   "source": [
    "# Main Input File "
   ]
  },
  {
   "cell_type": "code",
   "execution_count": 15,
   "metadata": {},
   "outputs": [],
   "source": [
    "control = {'duration' : sim_duration, \n",
    "           'startmonth' : 1, \n",
    "           'startyear' : 2022,\n",
    "           'dt' : 86400\n",
    "          }"
   ]
  },
  {
   "cell_type": "markdown",
   "metadata": {},
   "source": [
    "## EG01"
   ]
  },
  {
   "cell_type": "code",
   "execution_count": null,
   "metadata": {},
   "outputs": [],
   "source": [
    "archetypes = {'spec' : [{'lib' : 'cycamore', 'name' : 'Source'},\n",
    "                        {'lib' : 'cycamore', 'name' : 'Enrichment'},\n",
    "                        {'lib' : 'cycamore', 'name' : 'Mixer'},\n",
    "                        {'lib' : 'cycamore', 'name' : 'Reactor'},\n",
    "                        {'lib' : 'cycamore', 'name' : 'Storage'},\n",
    "                        {'lib' : 'cycamore', 'name' : 'Sink'},\n",
    "                        {'lib' : 'cycamore', 'name' : 'DeployInst'},\n",
    "                        {'lib' : 'cycamore', 'name' : 'ManagerInst'},\n",
    "                        {'lib' : 'cycamore', 'name' : 'GrowthRegion'},\n",
    "                       ]\n",
    "             }"
   ]
  },
  {
   "cell_type": "code",
   "execution_count": null,
   "metadata": {},
   "outputs": [],
   "source": [
    "# full additive availability at intro\n",
    "full_region = {'name' : 'GrowthRegion', \n",
    "               'config' : growth_region, \n",
    "               'institution' : [init_fleet, eg1_fc_inst]\n",
    "              }\n",
    "full_sim = {'simulation' : {'control' : control,\n",
    "                            'archetypes' : archetypes,\n",
    "                            'region' : full_region,\n",
    "                            'facility' : [init_uox_source, natu_source, non_source, add_source, enrich,\n",
    "                                          du_store, store_no232, mix_no232, store_232, mix_232, \n",
    "                                          lwr_full, lwr_cool, lwr_store, sink\n",
    "                                         ],\n",
    "                            'recipe' : [dep_u, nat_u, isos_no232, isos_232, enr_no232, enr_232, \n",
    "                                        uox_no232, uox_232, spent_no232, spent_232\n",
    "                                       ]\n",
    "                           }\n",
    "           }"
   ]
  },
  {
   "cell_type": "code",
   "execution_count": null,
   "metadata": {},
   "outputs": [],
   "source": [
    "# ramp up additive availability at intro\n",
    "ramp_region = {'name' : 'GrowthRegion', \n",
    "               'config' : growth_region, \n",
    "               'institution' : [init_fleet, eg1_fc_inst, eg1_ramp_inst]\n",
    "              }\n",
    "ramp_sim = {'simulation' : {'control' : control,\n",
    "                            'archetypes' : archetypes,\n",
    "                            'region' : ramp_region,\n",
    "                            'facility' : [init_uox_source, natu_source, non_source, add_source, enrich,\n",
    "                                          du_store, store_no232, mix_no232, store_232, mix_232, \n",
    "                                          store_pct_no232, store_pct_232, mix_50pct232, mix_10pct232, \n",
    "                                          lwr_ramp, lwr_cool, lwr_store, sink\n",
    "                                         ],\n",
    "                            'recipe' : [dep_u, nat_u, isos_no232, isos_232, enr_no232, enr_232, \n",
    "                                        uox_no232, uox_10pct232, uox_50pct232, uox_232,\n",
    "                                        spent_no232, spent_10pct232, spent_50pct232, spent_232\n",
    "                                       ]\n",
    "                           }\n",
    "           }"
   ]
  },
  {
   "cell_type": "markdown",
   "metadata": {},
   "source": [
    "## EG01 --> 23"
   ]
  },
  {
   "cell_type": "code",
   "execution_count": 30,
   "metadata": {},
   "outputs": [],
   "source": [
    "archetypes = {'spec' : [{'lib' : 'cycamore', 'name' : 'Source'},\n",
    "                        {'lib' : 'cycamore', 'name' : 'Enrichment'},\n",
    "                        {'lib' : 'cycamore', 'name' : 'Mixer'},\n",
    "                        {'lib' : 'cycamore', 'name' : 'Reactor'},\n",
    "                        {'lib' : 'cycamore', 'name' : 'Storage'},\n",
    "                        {'lib' : 'cycamore', 'name' : 'Separations'},\n",
    "                        {'lib' : 'cycamore', 'name' : 'Sink'},\n",
    "                        {'lib' : 'cycamore', 'name' : 'DeployInst'},\n",
    "                        {'lib' : 'cycamore', 'name' : 'ManagerInst'},\n",
    "                        {'lib' : 'cycamore', 'name' : 'GrowthRegion'},\n",
    "                      ]\n",
    "             }\n",
    "\n",
    "\n",
    "# full additive availability at intro\n",
    "full_region = {'name' : 'GrowthRegion', \n",
    "               'config' : growth_region, \n",
    "               'institution' : [init_fleet, eg1_23_fc_inst, eg23_deploy]\n",
    "              }\n",
    "full_sim = {'simulation' : {'control' : control,\n",
    "                            'archetypes' : archetypes,\n",
    "                            'region' : full_region,\n",
    "                            'facility' : [init_uox_source, natu_source, non_source, add_source, enrich,\n",
    "                                          du_store, store_no232, mix_no232, store_232, mix_232, lwr_full, \n",
    "                                          non_lwr_cool, add_lwr_cool, lwr_sep, sfr_mix_no232, sfr_mix_232, \n",
    "                                          sfr, sfr_sep, non_sfr_cool, add_sfr_cool, eg23_sink\n",
    "                                         ],\n",
    "                            'recipe' : [dep_u, nat_u, isos_no232, isos_232, enr_no232, enr_232, \n",
    "                                        uox_no232, uox_232, spent_no232, spent_232, ff_no232, ff_232, \n",
    "                                        spentff_no232, spentff_232\n",
    "                                       ]\n",
    "                           }\n",
    "           }"
   ]
  },
  {
   "cell_type": "code",
   "execution_count": 31,
   "metadata": {},
   "outputs": [
    {
     "data": {
      "text/plain": [
       "CompletedProcess(args=['cyclus', 'test_py.py', '-o', '../output/test_py.sqlite'], returncode=0)"
      ]
     },
     "execution_count": 31,
     "metadata": {},
     "output_type": "execute_result"
    }
   ],
   "source": [
    "filebase = 'test_py'\n",
    "\n",
    "in_file = filebase + '.py'\n",
    "sim_file = '../output/' + filebase + '.sqlite'\n",
    "\n",
    "with open(in_file, 'w') as file: \n",
    "    file.write('SIMULATION = ' + str(full_sim))\n",
    "subprocess.run(['rm', sim_file])\n",
    "subprocess.run(['cyclus', in_file, '-o', sim_file])"
   ]
  },
  {
   "cell_type": "markdown",
   "metadata": {},
   "source": [
    "# Set of Simulations \n",
    "\n",
    "List of Simulation Scenarios (24):\n",
    "\n",
    "If this is done with flat power plus 1% growth in power, doubles to 48 simulations\n",
    "\n",
    "- EG Scenarios\n",
    "  1. 01\n",
    "  2. 01-23\n",
    "  3. 01-29\n",
    "- Init Additive Concentration\n",
    "  1. 100ppt\n",
    "  2. ???pp?\n",
    "- Date\n",
    "  1. beginning of transition\n",
    "  2. later in transition\n",
    "- Rate\n",
    "  1. full availability\n",
    "  2. ramp up availability"
   ]
  },
  {
   "cell_type": "code",
   "execution_count": 19,
   "metadata": {},
   "outputs": [
    {
     "name": "stdout",
     "output_type": "stream",
     "text": [
      "01_100ppt_05yr_full\n",
      "01_100ppt_05yr_ramp\n",
      "01_100ppt_15yr_full\n",
      "01_100ppt_15yr_ramp\n",
      "01_100ppb_05yr_full\n",
      "01_100ppb_05yr_ramp\n",
      "01_100ppb_15yr_full\n",
      "01_100ppb_15yr_ramp\n",
      "23_100ppt_05yr_full\n",
      "23_100ppt_05yr_ramp\n",
      "23_100ppt_15yr_full\n",
      "23_100ppt_15yr_ramp\n",
      "23_100ppb_05yr_full\n",
      "23_100ppb_05yr_ramp\n",
      "23_100ppb_15yr_full\n",
      "23_100ppb_15yr_ramp\n",
      "29_100ppt_05yr_full\n",
      "29_100ppt_05yr_ramp\n",
      "29_100ppt_15yr_full\n",
      "29_100ppt_15yr_ramp\n",
      "29_100ppb_05yr_full\n",
      "29_100ppb_05yr_ramp\n",
      "29_100ppb_15yr_full\n",
      "29_100ppb_15yr_ramp\n"
     ]
    }
   ],
   "source": [
    "# File Names:\n",
    "for eg in ['01', '23', '29']:\n",
    "    for ppx in ['100ppt', '100ppb']:\n",
    "        for date in ['05yr', '15yr']:\n",
    "            for rate in ['full', 'ramp']:\n",
    "                file = eg + '_' + ppx + '_' + date + '_' + rate\n",
    "                print(file)"
   ]
  },
  {
   "cell_type": "code",
   "execution_count": null,
   "metadata": {},
   "outputs": [],
   "source": []
  }
 ],
 "metadata": {
  "kernelspec": {
   "display_name": "Python 3",
   "language": "python",
   "name": "python3"
  },
  "language_info": {
   "codemirror_mode": {
    "name": "ipython",
    "version": 3
   },
   "file_extension": ".py",
   "mimetype": "text/x-python",
   "name": "python",
   "nbconvert_exporter": "python",
   "pygments_lexer": "ipython3",
   "version": "3.8.10"
  }
 },
 "nbformat": 4,
 "nbformat_minor": 4
}
