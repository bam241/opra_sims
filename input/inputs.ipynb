{
 "cells": [
  {
   "cell_type": "code",
   "execution_count": 6,
   "metadata": {},
   "outputs": [],
   "source": [
    "test_sim = {'simulation' : \n",
    "{\n",
    "    'control' : {'duration': '12 * 1', \n",
    "                 'startmonth': '1', \n",
    "                 'startyear': '2020',\n",
    "                 'dt': 86400\n",
    "                },\n",
    "     \n",
    "    'archetypes' : {'spec': [{'lib': 'cycamore', 'name': 'Source'}, \n",
    "                             {'lib': 'cycamore', 'name': 'Sink'}, \n",
    "                             {'lib': 'agents', 'name': 'NullRegion'}, \n",
    "                             {'lib': 'agents', 'name': 'NullInst'}\n",
    "                            ] \n",
    "                   },\n",
    "     \n",
    "    'region' : {'name' : 'Region', \n",
    "                'config' : {'NullRegion': None}, \n",
    "                'institution' : {'name': 'Inst', \n",
    "                                 'initialfacilitylist' : {'entry': [{'number': 1, 'prototype': 'Source'}, \n",
    "                                                                    {'number': 1, 'prototype': 'Sink'}\n",
    "                                                                   ]\n",
    "                                                         },\n",
    "                                 'config' : {'NullInst': None}\n",
    "                                } \n",
    "               },\n",
    "     \n",
    "    'facility' : [{'name': 'Source', \n",
    "                   'config': {'Source': {'outcommod': 'commod',\n",
    "                                         'outrecipe': 'commod_recipe',\n",
    "                                         'throughput': '1'\n",
    "                                        }\n",
    "                             }\n",
    "                  },\n",
    "                  {'name': 'Sink', \n",
    "                   'config': {'Sink': {'in_commods': {'val': 'commod'}, \n",
    "                                       'capacity': '12', \n",
    "                                       'recipe_name': 'commod_recipe'\n",
    "                                      }\n",
    "                             }\n",
    "                  }\n",
    "                 ],\n",
    "     \n",
    "    'recipe' : [{'name': 'commod_recipe',\n",
    "                 'basis': 'mass',\n",
    "                 'nuclide': {'id': 'H1', 'comp': 1},\n",
    "                 }\n",
    "               ]\n",
    "}}"
   ]
  },
  {
   "cell_type": "code",
   "execution_count": 9,
   "metadata": {},
   "outputs": [],
   "source": [
    "import subprocess\n",
    "\n",
    "with open('test_py.py', 'w') as outfile: \n",
    "    outfile.write('SIMULATION = ' + str(test_sim))"
   ]
  },
  {
   "cell_type": "code",
   "execution_count": 11,
   "metadata": {},
   "outputs": [
    {
     "data": {
      "text/plain": [
       "CompletedProcess(args=['cyclus', 'test_py.py', '-o', 'test_py.sqlite'], returncode=1, stdout=b'              :                                                               \\n          .CL:CC CC             _Q     _Q  _Q_Q    _Q    _Q              _Q   \\n        CC;CCCCCCCC:C;         /_\\\\)   /_\\\\)/_/\\\\\\\\)  /_\\\\)  /_\\\\)            /_\\\\)  \\n        CCCCCCCCCCCCCl       __O|/O___O|/O_OO|/O__O|/O__O|/O____________O|/O__\\n     CCCCCCf     iCCCLCC     /////////////////////////////////////////////////\\n     iCCCt  ;;;;;.  CCCC                                                      \\n    CCCC  ;;;;;;;;;. CClL.                          c                         \\n   CCCC ,;;       ;;: CCCC  ;                   : CCCCi                       \\n    CCC ;;         ;;  CC   ;;:                CCC`   `C;                     \\n  lCCC ;;              CCCC  ;;;:             :CC .;;. C;   ;    :   ;  :;;   \\n  CCCC ;.              CCCC    ;;;,           CC ;    ; Ci  ;    :   ;  :  ;  \\n   iCC :;               CC       ;;;,        ;C ;       CC  ;    :   ; .      \\n  CCCi ;;               CCC        ;;;.      .C ;       tf  ;    :   ;  ;.    \\n  CCC  ;;               CCC          ;;;;;;; fC :       lC  ;    :   ;    ;:  \\n   iCf ;;               CC         :;;:      tC ;       CC  ;    :   ;     ;  \\n  fCCC :;              LCCf      ;;;:         LC :.  ,: C   ;    ;   ; ;   ;  \\n  CCCC  ;;             CCCC    ;;;:           CCi `;;` CC.  ;;;; :;.;.  ; ,;  \\n    CCl ;;             CC    ;;;;              CCC    CCL                     \\n   tCCC  ;;        ;; CCCL  ;;;                  tCCCCC.                      \\n    CCCC  ;;     :;; CCCCf  ;                     ,L                          \\n     lCCC   ;;;;;;  CCCL                                                      \\n     CCCCCC  :;;  fCCCCC                                                      \\n      . CCCC     CCCC .                                                       \\n       .CCCCCCCCCCCCCi                                                        \\n          iCCCCCLCf                                                           \\n           .  C. ,                                                            \\n              :                                                               \\n ERROR(core  ):Document failed schema validation\\n')"
      ]
     },
     "execution_count": 11,
     "metadata": {},
     "output_type": "execute_result"
    }
   ],
   "source": [
    "subprocess.run(['cyclus', 'test_py.py', '-o', 'test_py.sqlite'], stdout=subprocess.PIPE)"
   ]
  },
  {
   "cell_type": "code",
   "execution_count": null,
   "metadata": {},
   "outputs": [],
   "source": []
  }
 ],
 "metadata": {
  "kernelspec": {
   "display_name": "Python 3",
   "language": "python",
   "name": "python3"
  },
  "language_info": {
   "codemirror_mode": {
    "name": "ipython",
    "version": 3
   },
   "file_extension": ".py",
   "mimetype": "text/x-python",
   "name": "python",
   "nbconvert_exporter": "python",
   "pygments_lexer": "ipython3",
   "version": "3.8.10"
  }
 },
 "nbformat": 4,
 "nbformat_minor": 4
}
