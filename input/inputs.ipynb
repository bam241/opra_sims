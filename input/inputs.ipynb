{
 "cells": [
  {
   "cell_type": "code",
   "execution_count": 5,
   "metadata": {},
   "outputs": [],
   "source": [
    "import subprocess\n",
    "import numpy as np"
   ]
  },
  {
   "cell_type": "code",
   "execution_count": 6,
   "metadata": {},
   "outputs": [],
   "source": [
    "# Easy access/variable params\n",
    "intro_time = 264 #22 years (2022 intro, sort of)\n",
    "sim_duration = 864 #72 years\n",
    "\n",
    "# needed for other things, but not tuneable params\n",
    "n_init_rxtrs = 100\n",
    "n_assem_core = 3\n",
    "assem_size = 29565\n",
    "init_total_assem_size = n_init_rxtrs * n_assem_core * assem_size\n",
    "cycle_time = 18"
   ]
  },
  {
   "cell_type": "code",
   "execution_count": 41,
   "metadata": {},
   "outputs": [
    {
     "data": {
      "text/plain": [
       "8869500"
      ]
     },
     "execution_count": 41,
     "metadata": {},
     "output_type": "execute_result"
    }
   ],
   "source": [
    "init_total_assem_size"
   ]
  },
  {
   "cell_type": "markdown",
   "metadata": {},
   "source": [
    "# Protoype Definitions:\n",
    "1. LWRs : Full additive availability and ramped additive availability\n",
    "2. Fuel Cycle Facilities"
   ]
  },
  {
   "cell_type": "markdown",
   "metadata": {},
   "source": [
    "## 1. LWR"
   ]
  },
  {
   "cell_type": "code",
   "execution_count": 54,
   "metadata": {},
   "outputs": [],
   "source": [
    "# LWR prototype for full additive availability upon introduction\n",
    "lwr_full = {'name' : 'LWR',\n",
    "            'lifetime' : 720,\n",
    "            'config' : {'Reactor' : {'fuel_incommods' :  {'val' : ['UOX_Additive', 'UOX_NoAdditive', 'InitUOX']},\n",
    "                                     'fuel_outcommods' : {'val' : ['SpentUOX_Additive', 'SpentUOX_NoAdditive', 'SpentUOX_NoAdditive']},\n",
    "                                     'fuel_inrecipes' :  {'val' : ['UOX_232', 'UOX_no232', 'UOX_no232']},\n",
    "                                     'fuel_outrecipes' : {'val' : ['SpentUOX_232', 'SpentUOX_no232', 'SpentUOX_no232']},\n",
    "                                     'fuel_prefs' : {'val' : [1, 2, 2.5]},\n",
    "                                     'pref_change_times' : {'val' : intro_time},\n",
    "                                     'pref_change_commods' : {'val' : 'UOX_Additive'},\n",
    "                                     'pref_change_values' : {'val' : 3},\n",
    "                                     'cycle_time' : cycle_time,\n",
    "                                     'refuel_time' : 0,\n",
    "                                     'assem_size' : assem_size,\n",
    "                                     'n_assem_core' : n_assem_core,\n",
    "                                     'n_assem_batch' : 1,\n",
    "                                     'power_cap' : 1000\n",
    "                                    }\n",
    "                       }\n",
    "           }\n",
    "\n",
    "# LWR prototype for partial additive availability/slow utility uptake upon introduction\n",
    "intro_50 = intro_time + 3 * cycle_time\n",
    "intro_100 = intro_50 + 3 * cycle_time\n",
    "lwr_ramp = {'name' : 'LWR',\n",
    "            'lifetime' : 720,\n",
    "            'config' : {'Reactor' : {'fuel_incommods' :  {'val' : ['UOX_Additive', 'UOX_50pctAdditive', 'UOX_10pctAdditive', 'UOX_NoAdditive', 'InitUOX']},\n",
    "                                     'fuel_outcommods' : {'val' : ['SpentUOX_Additive', 'SpentUOX_50pctAdditive', 'SpentUOX_10pctAdditive', 'SpentUOX_NoAdditive', 'SpentUOX_NoAdditive']},\n",
    "                                     'fuel_inrecipes' :  {'val' : ['UOX_232', 'UOX_50pct232', 'UOX_10pct232', 'UOX_no232', 'UOX_no232']},\n",
    "                                     'fuel_outrecipes' : {'val' : ['SpentUOX_232', 'SpentUOX_50pct232', 'SpentUOX_10pct232', 'SpentUOX_no232', 'SpentUOX_no232']},\n",
    "                                     'fuel_prefs' : {'val' : [1, 1, 1, 2, 2.5]},\n",
    "                                     'pref_change_times' : {'val' : [intro_time, intro_50, intro_100]},\n",
    "                                     'pref_change_commods' : {'val' : ['UOX_10pctAdditive', 'UOX_50pctAdditive', 'UOX_Additive']},\n",
    "                                     'pref_change_values' : {'val' : [3, 4, 5]},\n",
    "                                     'cycle_time' : cycle_time,\n",
    "                                     'refuel_time' : 0,\n",
    "                                     'assem_size' : assem_size,\n",
    "                                     'n_assem_core' : n_assem_core,\n",
    "                                     'n_assem_batch' : 1,\n",
    "                                     'power_cap' : 1000\n",
    "                                    }\n",
    "                       }\n",
    "           }"
   ]
  },
  {
   "cell_type": "markdown",
   "metadata": {},
   "source": [
    "## 2. Fuel Cycle Facilities"
   ]
  },
  {
   "cell_type": "code",
   "execution_count": 53,
   "metadata": {},
   "outputs": [],
   "source": [
    "init_uox_source = {'name' : 'SourceInitUOX', \n",
    "                   'config' : {'Source' : {'outcommod' : 'InitUOX',\n",
    "                                           'outrecipe' : 'UOX_no232',\n",
    "                                           'inventory_size' : init_total_assem_size\n",
    "                                          }\n",
    "                              }\n",
    "                  }\n",
    "from facilities import natu_source, non_source, add_source, enrich, du_store, store_no232, mix_no232, store_232, mix_232, lwr_cool, lwr_store, sink"
   ]
  },
  {
   "cell_type": "code",
   "execution_count": 55,
   "metadata": {},
   "outputs": [],
   "source": [
    "# mixer scheme for 10, 50 pct additive UOX streams\n",
    "\n",
    "# first need extra storage to request separate stream/recipe\n",
    "store_pct_no232 = {'name' : 'StorageRampNoAdditive', \n",
    "                   'config' : {'Storage' : {'in_commods' : {'val' : 'UOX_NoAdditive'}, \n",
    "                                            'in_recipe' : 'UOX_no232', \n",
    "                                            'out_commods' : {'val' : 'Mixer_UOX_NoAdditive'}, \n",
    "                                            'residence_time' : 0,\n",
    "                                            'throughput' : 1e10,\n",
    "                                            'max_inv_size' : 1e20\n",
    "                                           }\n",
    "                              }\n",
    "                   }\n",
    "store_pct_232 = {'name' : 'StorageRampAdditive', \n",
    "                 'config' : {'Storage' : {'in_commods' : {'val' : 'UOX_Additive'}, \n",
    "                                          'in_recipe' : 'UOX_232', \n",
    "                                          'out_commods' : {'val' : 'Mixer_UOX_Additive'}, \n",
    "                                          'residence_time' : 0,\n",
    "                                          'throughput' : 1e10,\n",
    "                                          'max_inv_size' : 1e20\n",
    "                                         }\n",
    "                            }\n",
    "                }\n",
    "\n",
    "# 50 pct additive material stream\n",
    "mix_non_stream50 = {'info' : {'mixing_ratio' : 0.5, \n",
    "                              'buf_size' : 1e8\n",
    "                             },\n",
    "                    'commodities' : {'item' : {'commodity' : 'Mixer_UOX_NoAdditive', \n",
    "                                               'pref' : 1.0\n",
    "                                              }\n",
    "                                    }\n",
    "                   }\n",
    "mix_add_stream50 = {'info' : {'mixing_ratio' : 0.5,\n",
    "                              'buf_size' : 1e8\n",
    "                             },\n",
    "                    'commodities' : {'item' : {'commodity' : 'Mixer_UOX_Additive',\n",
    "                                               'pref' : 1.0\n",
    "                                              }\n",
    "                                    }\n",
    "                   }\n",
    "mix_50pct232 = {'name' : 'Mixer50pctAdditive',\n",
    "                'config' : {'Mixer' : {'in_streams' : {'stream' : [mix_non_stream50, mix_add_stream50]},\n",
    "                                       'out_commod' : 'UOX_50pctAdditive',\n",
    "                                       'throughput' : 1e10,\n",
    "                                       'out_buf_size' : 1e20\n",
    "                                      }\n",
    "                           }\n",
    "               }\n",
    "\n",
    "# 10 pct additive material stream\n",
    "mix_non_stream10 = {'info' : {'mixing_ratio' : 0.9, \n",
    "                              'buf_size' : 1e8\n",
    "                             },\n",
    "                    'commodities' : {'item' : {'commodity' : 'Mixer_UOX_NoAdditive', \n",
    "                                               'pref' : 1.0\n",
    "                                              }\n",
    "                                    }\n",
    "                   }\n",
    "mix_add_stream10 = {'info' : {'mixing_ratio' : 0.1,\n",
    "                              'buf_size' : 1e8\n",
    "                             },\n",
    "                    'commodities' : {'item' : {'commodity' : 'Mixer_UOX_Additive',\n",
    "                                               'pref' : 1.0\n",
    "                                              }\n",
    "                                    }\n",
    "                   }\n",
    "mix_10pct232 = {'name' : 'Mixer10pctAdditive',\n",
    "                'config' : {'Mixer' : {'in_streams' : {'stream' : [mix_non_stream10, mix_add_stream10]},\n",
    "                                       'out_commod' : 'UOX_10pctAdditive',\n",
    "                                       'throughput' : 1e10,\n",
    "                                       'out_buf_size' : 1e20\n",
    "                                      }\n",
    "                           }\n",
    "               }"
   ]
  },
  {
   "cell_type": "markdown",
   "metadata": {},
   "source": [
    "# Regions and Institutions:\n",
    "1. Deploy Inst (Init Fleet)\n",
    "2. Manager Inst (Remainder of FC facilities)\n",
    "3. Growth Region"
   ]
  },
  {
   "cell_type": "markdown",
   "metadata": {},
   "source": [
    "## 1. Init LWR Fleet (Deploy Inst)"
   ]
  },
  {
   "cell_type": "code",
   "execution_count": 10,
   "metadata": {},
   "outputs": [],
   "source": [
    "init_lwr_prototypes = ['LWR' for x in range(0, n_init_rxtrs)]\n",
    "n_builds = [1 for x in range(0, n_init_rxtrs)]\n",
    "build_times = [x + 1 for x in range(0, 17) for y in range(0,6)]\n",
    "del build_times[-3:-1]\n",
    "lifetimes = [181, 186, 191, 196, \n",
    "             201, 206, 211, 216, 221, 226, 231, 236, 241, 246, 251, 256, 261, 266, 271, 276, 281, 286, 291, 296,\n",
    "             301, 306, 311, 316, 321, 326, 331, 336, 341, 346, 351, 356, 361, 366, 371, 376, 381, 386, 391, 396,\n",
    "             401, 406, 411, 416, 421, 426, 431, 436, 441, 446, 451, 456, 461, 466, 471, 476, 481, 486, 491, 496,\n",
    "             501, 506, 511, 516, 521, 526, 531, 536, 541, 546, 551, 556, 561, 566, 571, 576, 581, 586, 591, 596,\n",
    "             601, 606, 611, 616, 621, 626, 631, 636, 641, 646, 651, 656, 661, 666, 671, 676\n",
    "            ]\n",
    "\n",
    "assert len(init_lwr_prototypes) == n_init_rxtrs\n",
    "assert len(n_builds) == n_init_rxtrs\n",
    "assert len(build_times) == n_init_rxtrs\n",
    "assert len(lifetimes) == n_init_rxtrs"
   ]
  },
  {
   "cell_type": "code",
   "execution_count": 11,
   "metadata": {},
   "outputs": [],
   "source": [
    "init_fleet = {'name' : 'InitFleet', \n",
    "              'config' : {'DeployInst' : {'prototypes' :  {'val' : init_lwr_prototypes},\n",
    "                                          'n_build' :     {'val' : n_builds},\n",
    "                                          'build_times' : {'val' : build_times},\n",
    "                                          'lifetimes' :   {'val' : lifetimes}\n",
    "                                         }\n",
    "                         }\n",
    "             }"
   ]
  },
  {
   "cell_type": "markdown",
   "metadata": {},
   "source": [
    "## 2a. FC Inst (Manager Inst)"
   ]
  },
  {
   "cell_type": "code",
   "execution_count": 43,
   "metadata": {},
   "outputs": [],
   "source": [
    "fc_prototypes = ['SourceNatU', 'SourceNoAdditiveIsos', 'SourceAdditiveIsos', 'Enrichment', 'StorageDepU', \n",
    "                 'StorageNoAdditive', 'MixerNoAdditive', 'StorageAdditive', 'MixerAdditive', \n",
    "                 'LWR', 'CoolingLWR', 'StorageLWR', 'Waste'\n",
    "                ]\n",
    "\n",
    "fc_inst = {'name' : 'FCInst', \n",
    "           'initialfacilitylist' : {'entry' : [{'number' : 1, 'prototype' : 'SourceInitUOX'},\n",
    "                                               {'number' : 1, 'prototype' : 'SourceNatU'},\n",
    "                                               {'number' : 1, 'prototype' : 'SourceNoAdditiveIsos'},\n",
    "                                               {'number' : 1, 'prototype' : 'SourceAdditiveIsos'},\n",
    "                                               {'number' : 1, 'prototype' : 'Enrichment'},\n",
    "                                               {'number' : 1, 'prototype' : 'StorageDepU'},\n",
    "                                               {'number' : 1, 'prototype' : 'StorageNoAdditive'},\n",
    "                                               {'number' : 1, 'prototype' : 'MixerNoAdditive'},\n",
    "                                               {'number' : 1, 'prototype' : 'StorageAdditive'},\n",
    "                                               {'number' : 1, 'prototype' : 'MixerAdditive'},\n",
    "                                               {'number' : 1, 'prototype' : 'CoolingLWR'},\n",
    "                                               {'number' : 1, 'prototype' : 'StorageLWR'},\n",
    "                                               {'number' : 1, 'prototype' : 'Waste'}]\n",
    "                                   },\n",
    "           'config' : {'ManagerInst' : {'prototypes' : {'val' : fc_prototypes}\n",
    "                                       }\n",
    "                      }\n",
    "          }"
   ]
  },
  {
   "cell_type": "markdown",
   "metadata": {},
   "source": [
    "## 2b. Add-on Facilities for Additive Ramp-up"
   ]
  },
  {
   "cell_type": "code",
   "execution_count": 50,
   "metadata": {},
   "outputs": [],
   "source": [
    "ramp_prototypes = ['StorageRampNoAdditive', 'StorageRampAdditive', \n",
    "                   'Mixer50pctAdditive', 'Mixer10pctAdditive'\n",
    "                  ]\n",
    "\n",
    "t = intro_time\n",
    "\n",
    "ramp_inst = {'name' : 'RampInst', \n",
    "             'config' : {'DeployInst' : {'prototypes' :  {'val' : ramp_prototypes},\n",
    "                                         'n_build' :     {'val' : [1, 1, 1, 1]},\n",
    "                                         'build_times' : {'val' : [t, t, t, t]}\n",
    "                                        }\n",
    "                        }\n",
    "            }"
   ]
  },
  {
   "cell_type": "markdown",
   "metadata": {},
   "source": [
    "## 3. Growth Region"
   ]
  },
  {
   "cell_type": "code",
   "execution_count": 45,
   "metadata": {},
   "outputs": [],
   "source": [
    "lin_func = {'piece' : [{'start' : 18,\n",
    "                        'function' : {'type' : 'linear',\n",
    "                                      'params' : '0 100000'\n",
    "                                     }\n",
    "                       }]\n",
    "           }\n",
    "\n",
    "growth_region = {'GrowthRegion' : {'growth' : {'item' : [{'commod' : 'power',\n",
    "                                                          'piecewise_function' : lin_func\n",
    "                                                         }]\n",
    "                                              }\n",
    "                                  }\n",
    "                }"
   ]
  },
  {
   "cell_type": "markdown",
   "metadata": {},
   "source": [
    "# Recipes\n",
    "-  Here: \n",
    "  1. Depleted U\n",
    "  2. Natural U\n",
    "-  100 ppt Init U232 Additive Recipes (in recipe_100ppt.py):\n",
    "  1. NonAdditive U Isotopes (U234)\n",
    "  2. Additive U Isotopes (U232, U233, U234)\n",
    "  3. Almost UOX NonAdditive Enr Ratio\n",
    "  4. Almost UOX Additive Enr Ratio\n",
    "  5. UOX without Additive\n",
    "  6. UOX with Additive\n",
    "  7. Spent UOX from #5\n",
    "  8. Spent UOX from #6"
   ]
  },
  {
   "cell_type": "code",
   "execution_count": 46,
   "metadata": {},
   "outputs": [],
   "source": [
    "dep_u = {'name' : 'DU',\n",
    "         'basis' : 'mass',\n",
    "         'nuclide' : [{'id' : 'U235', 'comp' : 0.0025}, \n",
    "                      {'id' : 'U238', 'comp' : 0.9975}]\n",
    "        }\n",
    "nat_u = {'name' : 'NU',\n",
    "         'basis' : 'mass',\n",
    "         'nuclide' : [{'id' : 'U235', 'comp' : 0.007110}, \n",
    "                      {'id' : 'U238', 'comp' : 0.992890}]\n",
    "        }"
   ]
  },
  {
   "cell_type": "code",
   "execution_count": 47,
   "metadata": {},
   "outputs": [],
   "source": [
    "# Recipes from 100 ppt U232 additive @ beginning of enrichment\n",
    "from recipe_100ppt import (isos_no232, isos_232, enr_no232, enr_232, \n",
    "                           uox_no232, uox_10pct232, uox_50pct232, uox_232, \n",
    "                           spent_no232, spent_10pct232, spent_50pct232, spent_232)"
   ]
  },
  {
   "cell_type": "markdown",
   "metadata": {},
   "source": [
    "# Main Input File"
   ]
  },
  {
   "cell_type": "code",
   "execution_count": 56,
   "metadata": {},
   "outputs": [],
   "source": [
    "control = {'duration' : sim_duration, \n",
    "           'startmonth' : 1, \n",
    "           'startyear' : 2000,\n",
    "           'dt' : 86400\n",
    "          }\n",
    "\n",
    "archetypes = {'spec' : [{'lib' : 'cycamore', 'name' : 'Source'},\n",
    "                        {'lib' : 'cycamore', 'name' : 'Enrichment'},\n",
    "                        {'lib' : 'cycamore', 'name' : 'Mixer'},\n",
    "                        {'lib' : 'cycamore', 'name' : 'Reactor'},\n",
    "                        {'lib' : 'cycamore', 'name' : 'Storage'},\n",
    "                        {'lib' : 'cycamore', 'name' : 'Sink'},\n",
    "                        {'lib' : 'cycamore', 'name' : 'DeployInst'},\n",
    "                        {'lib' : 'cycamore', 'name' : 'ManagerInst'},\n",
    "                        {'lib' : 'cycamore', 'name' : 'GrowthRegion'},\n",
    "                      ]\n",
    "             }\n",
    "\n",
    "\n",
    "# full additive availability at intro\n",
    "full_region = {'name' : 'GrowthRegion', \n",
    "               'config' : growth_region, \n",
    "               'institution' : [init_fleet, fc_inst]\n",
    "              }\n",
    "full_sim = {'simulation' : {'control' : control,\n",
    "                            'archetypes' : archetypes,\n",
    "                            'region' : full_region,\n",
    "                            'facility' : [init_uox_source, natu_source, non_source, add_source, enrich,\n",
    "                                          du_store, store_no232, mix_no232, store_232, mix_232, \n",
    "                                          lwr_full, lwr_cool, lwr_store, sink\n",
    "                                         ],\n",
    "                            'recipe' : [dep_u, nat_u, isos_no232, isos_232, enr_no232, enr_232, \n",
    "                                        uox_no232, uox_232, spent_no232, spent_232\n",
    "                                       ]\n",
    "                           }\n",
    "           }\n",
    "# ramp up additive availability at intro\n",
    "ramp_region = {'name' : 'GrowthRegion', \n",
    "               'config' : growth_region, \n",
    "               'institution' : [init_fleet, fc_inst, ramp_inst]\n",
    "              }\n",
    "ramp_sim = {'simulation' : {'control' : control,\n",
    "                            'archetypes' : archetypes,\n",
    "                            'region' : ramp_region,\n",
    "                            'facility' : [init_uox_source, natu_source, non_source, add_source, enrich,\n",
    "                                          du_store, store_no232, mix_no232, store_232, mix_232, \n",
    "                                          store_pct_no232, store_pct_232, mix_50pct232, mix_10pct232, \n",
    "                                          lwr_ramp, lwr_cool, lwr_store, sink\n",
    "                                         ],\n",
    "                            'recipe' : [dep_u, nat_u, isos_no232, isos_232, enr_no232, enr_232, \n",
    "                                        uox_no232, uox_10pct232, uox_50pct232, uox_232,\n",
    "                                        spent_no232, spent_10pct232, spent_50pct232, spent_232\n",
    "                                       ]\n",
    "                           }\n",
    "           }"
   ]
  },
  {
   "cell_type": "code",
   "execution_count": 57,
   "metadata": {},
   "outputs": [
    {
     "data": {
      "text/plain": [
       "CompletedProcess(args=['cyclus', 'test_py.py', '-o', '../output/test_py.sqlite'], returncode=0)"
      ]
     },
     "execution_count": 57,
     "metadata": {},
     "output_type": "execute_result"
    }
   ],
   "source": [
    "filebase = 'test_py'\n",
    "\n",
    "in_file = filebase + '.py'\n",
    "sim_file = '../output/' + filebase + '.sqlite'\n",
    "\n",
    "with open(in_file, 'w') as file: \n",
    "    file.write('SIMULATION = ' + str(ramp_sim))\n",
    "subprocess.run(['rm', sim_file])\n",
    "subprocess.run(['cyclus', in_file, '-o', sim_file])\n",
    "#, stdout=subprocess.PIPE)\n",
    "#subprocess.run(['cyclus', 'test_py.py', '-o', 'test_py.sqlite'], capture_output=True).stdout"
   ]
  },
  {
   "cell_type": "markdown",
   "metadata": {},
   "source": [
    "# Set of Simulations \n",
    "\n",
    "List of Simulation Scenarios (24):\n",
    "\n",
    "If this is done with flat power plus 1% growth in power, doubles to 48 simulations\n",
    "\n",
    "- EG Scenarios\n",
    "  1. 01\n",
    "  2. 01-23\n",
    "  3. 01-29\n",
    "- Init Additive Concentration\n",
    "  1. 100ppt\n",
    "  2. ???pp?\n",
    "- Date\n",
    "  1. beginning of transition\n",
    "  2. later in transition\n",
    "- Rate\n",
    "  1. full availability\n",
    "  2. ramp up availability"
   ]
  },
  {
   "cell_type": "code",
   "execution_count": 19,
   "metadata": {},
   "outputs": [
    {
     "name": "stdout",
     "output_type": "stream",
     "text": [
      "01_100ppt_05yr_full\n",
      "01_100ppt_05yr_ramp\n",
      "01_100ppt_15yr_full\n",
      "01_100ppt_15yr_ramp\n",
      "01_100ppb_05yr_full\n",
      "01_100ppb_05yr_ramp\n",
      "01_100ppb_15yr_full\n",
      "01_100ppb_15yr_ramp\n",
      "23_100ppt_05yr_full\n",
      "23_100ppt_05yr_ramp\n",
      "23_100ppt_15yr_full\n",
      "23_100ppt_15yr_ramp\n",
      "23_100ppb_05yr_full\n",
      "23_100ppb_05yr_ramp\n",
      "23_100ppb_15yr_full\n",
      "23_100ppb_15yr_ramp\n",
      "29_100ppt_05yr_full\n",
      "29_100ppt_05yr_ramp\n",
      "29_100ppt_15yr_full\n",
      "29_100ppt_15yr_ramp\n",
      "29_100ppb_05yr_full\n",
      "29_100ppb_05yr_ramp\n",
      "29_100ppb_15yr_full\n",
      "29_100ppb_15yr_ramp\n"
     ]
    }
   ],
   "source": [
    "# File Names:\n",
    "for eg in ['01', '23', '29']:\n",
    "    for ppx in ['100ppt', '100ppb']:\n",
    "        for date in ['05yr', '15yr']:\n",
    "            for rate in ['full', 'ramp']:\n",
    "                file = eg + '_' + ppx + '_' + date + '_' + rate\n",
    "                print(file)"
   ]
  },
  {
   "cell_type": "code",
   "execution_count": null,
   "metadata": {},
   "outputs": [],
   "source": []
  }
 ],
 "metadata": {
  "kernelspec": {
   "display_name": "Python 3",
   "language": "python",
   "name": "python3"
  },
  "language_info": {
   "codemirror_mode": {
    "name": "ipython",
    "version": 3
   },
   "file_extension": ".py",
   "mimetype": "text/x-python",
   "name": "python",
   "nbconvert_exporter": "python",
   "pygments_lexer": "ipython3",
   "version": "3.8.10"
  }
 },
 "nbformat": 4,
 "nbformat_minor": 4
}
